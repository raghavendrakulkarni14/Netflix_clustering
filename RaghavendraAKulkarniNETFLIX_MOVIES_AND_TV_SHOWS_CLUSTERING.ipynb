{
  "nbformat": 4,
  "nbformat_minor": 0,
  "metadata": {
    "colab": {
      "name": "RaghavendraAKulkarniNETFLIX MOVIES AND TV SHOWS CLUSTERING.ipynb",
      "provenance": [],
      "authorship_tag": "ABX9TyN5eFmyr8e0Q7n/RmTDNOFB",
      "include_colab_link": true
    },
    "kernelspec": {
      "name": "python3",
      "display_name": "Python 3"
    },
    "language_info": {
      "name": "python"
    }
  },
  "cells": [
    {
      "cell_type": "markdown",
      "metadata": {
        "id": "view-in-github",
        "colab_type": "text"
      },
      "source": [
        "<a href=\"https://colab.research.google.com/github/raghavendrakulkarni14/Netflix_clustering/blob/main/RaghavendraAKulkarniNETFLIX_MOVIES_AND_TV_SHOWS_CLUSTERING.ipynb\" target=\"_parent\"><img src=\"https://colab.research.google.com/assets/colab-badge.svg\" alt=\"Open In Colab\"/></a>"
      ]
    },
    {
      "cell_type": "markdown",
      "metadata": {
        "id": "LGcl5Bv9ed6u"
      },
      "source": [
        "# **Problem Statement**"
      ]
    },
    {
      "cell_type": "markdown",
      "metadata": {
        "id": "8M5kyFaVjzXk"
      },
      "source": [
        "This dataset consists of tv shows and movies available on Netflix as of 2019. The dataset is collected from Flixable which is a third-party Netflix search engine.\n",
        "\n",
        "In 2018, they released an interesting report which shows that the number of TV shows on Netflix has nearly tripled since 2010. The streaming service’s number of movies has decreased by more than 2,000 titles since 2010, while its number of TV shows has nearly tripled. It will be interesting to explore what all other insights can be obtained from the same dataset.\n",
        "\n",
        "Integrating this dataset with other external datasets such as IMDB ratings, rotten tomatoes can also provide many interesting findings."
      ]
    },
    {
      "cell_type": "markdown",
      "metadata": {
        "id": "tLx5cJO8hzb1"
      },
      "source": [
        "## <b>In this  project, you are required to do </b>\n",
        "1. Exploratory Data Analysis \n",
        "\n",
        "2. Understanding what type content is available in different countries\n",
        "\n",
        "3. Is Netflix has increasingly focusing on TV rather than movies in recent years.\n",
        "4. Clustering similar content by matching text-based features\n",
        "\n"
      ]
    },
    {
      "cell_type": "markdown",
      "metadata": {
        "id": "AzGDqdC4fZ-b"
      },
      "source": [
        "# **Attribute Information**"
      ]
    },
    {
      "cell_type": "markdown",
      "metadata": {
        "id": "jhfLYargscGV"
      },
      "source": [
        "1. show_id : Unique ID for every Movie / Tv Show\n",
        "\n",
        "2. type : Identifier - A Movie or TV Show\n",
        "\n",
        "3. title : Title of the Movie / Tv Show\n",
        "\n",
        "4. director : Director of the Movie\n",
        "\n",
        "5. cast : Actors involved in the movie / show\n",
        "\n",
        "6. country : Country where the movie / show was produced\n",
        "\n",
        "7. date_added : Date it was added on Netflix\n",
        "\n",
        "8. release_year : Actual Releaseyear of the movie / show\n",
        "\n",
        "9. rating : TV Rating of the movie / show\n",
        "\n",
        "10. duration : Total Duration - in minutes or number of seasons\n",
        "\n",
        "11. listed_in : Genere\n",
        "\n",
        "12. description: The Summary description"
      ]
    },
    {
      "cell_type": "code",
      "metadata": {
        "id": "TpJSSrzuyvyl"
      },
      "source": [
        "#importing required libraries\n",
        "%matplotlib inline\n",
        "import matplotlib.pyplot as plt\n",
        "import seaborn as sns\n",
        "import numpy as np\n",
        "import pandas as pd"
      ],
      "execution_count": 93,
      "outputs": []
    },
    {
      "cell_type": "code",
      "metadata": {
        "colab": {
          "base_uri": "https://localhost:8080/"
        },
        "id": "F82Bhc0dyv2i",
        "outputId": "89bf7da3-8f66-4e79-d62d-989a293b61d0"
      },
      "source": [
        "#mounting the drive to access the data\n",
        "from google.colab import drive\n",
        "drive.mount('/content/drive')"
      ],
      "execution_count": 94,
      "outputs": [
        {
          "output_type": "stream",
          "name": "stdout",
          "text": [
            "Drive already mounted at /content/drive; to attempt to forcibly remount, call drive.mount(\"/content/drive\", force_remount=True).\n"
          ]
        }
      ]
    },
    {
      "cell_type": "code",
      "metadata": {
        "colab": {
          "base_uri": "https://localhost:8080/",
          "height": 287
        },
        "id": "qjC5kqD5yv5e",
        "outputId": "8dcb21c5-25d0-4c6e-b0bc-bfc119b12c1e"
      },
      "source": [
        "#reading the dataset\n",
        "df=pd.read_csv('/content/drive/MyDrive/AlmaBetter_Cap-4/NETFLIX MOVIES AND TV SHOWS CLUSTERING.csv')\n",
        "df.head(5)"
      ],
      "execution_count": 95,
      "outputs": [
        {
          "output_type": "execute_result",
          "data": {
            "text/html": [
              "<div>\n",
              "<style scoped>\n",
              "    .dataframe tbody tr th:only-of-type {\n",
              "        vertical-align: middle;\n",
              "    }\n",
              "\n",
              "    .dataframe tbody tr th {\n",
              "        vertical-align: top;\n",
              "    }\n",
              "\n",
              "    .dataframe thead th {\n",
              "        text-align: right;\n",
              "    }\n",
              "</style>\n",
              "<table border=\"1\" class=\"dataframe\">\n",
              "  <thead>\n",
              "    <tr style=\"text-align: right;\">\n",
              "      <th></th>\n",
              "      <th>show_id</th>\n",
              "      <th>type</th>\n",
              "      <th>title</th>\n",
              "      <th>director</th>\n",
              "      <th>cast</th>\n",
              "      <th>country</th>\n",
              "      <th>date_added</th>\n",
              "      <th>release_year</th>\n",
              "      <th>rating</th>\n",
              "      <th>duration</th>\n",
              "      <th>listed_in</th>\n",
              "      <th>description</th>\n",
              "    </tr>\n",
              "  </thead>\n",
              "  <tbody>\n",
              "    <tr>\n",
              "      <th>0</th>\n",
              "      <td>s1</td>\n",
              "      <td>TV Show</td>\n",
              "      <td>3%</td>\n",
              "      <td>NaN</td>\n",
              "      <td>João Miguel, Bianca Comparato, Michel Gomes, R...</td>\n",
              "      <td>Brazil</td>\n",
              "      <td>August 14, 2020</td>\n",
              "      <td>2020</td>\n",
              "      <td>TV-MA</td>\n",
              "      <td>4 Seasons</td>\n",
              "      <td>International TV Shows, TV Dramas, TV Sci-Fi &amp;...</td>\n",
              "      <td>In a future where the elite inhabit an island ...</td>\n",
              "    </tr>\n",
              "    <tr>\n",
              "      <th>1</th>\n",
              "      <td>s2</td>\n",
              "      <td>Movie</td>\n",
              "      <td>7:19</td>\n",
              "      <td>Jorge Michel Grau</td>\n",
              "      <td>Demián Bichir, Héctor Bonilla, Oscar Serrano, ...</td>\n",
              "      <td>Mexico</td>\n",
              "      <td>December 23, 2016</td>\n",
              "      <td>2016</td>\n",
              "      <td>TV-MA</td>\n",
              "      <td>93 min</td>\n",
              "      <td>Dramas, International Movies</td>\n",
              "      <td>After a devastating earthquake hits Mexico Cit...</td>\n",
              "    </tr>\n",
              "    <tr>\n",
              "      <th>2</th>\n",
              "      <td>s3</td>\n",
              "      <td>Movie</td>\n",
              "      <td>23:59</td>\n",
              "      <td>Gilbert Chan</td>\n",
              "      <td>Tedd Chan, Stella Chung, Henley Hii, Lawrence ...</td>\n",
              "      <td>Singapore</td>\n",
              "      <td>December 20, 2018</td>\n",
              "      <td>2011</td>\n",
              "      <td>R</td>\n",
              "      <td>78 min</td>\n",
              "      <td>Horror Movies, International Movies</td>\n",
              "      <td>When an army recruit is found dead, his fellow...</td>\n",
              "    </tr>\n",
              "    <tr>\n",
              "      <th>3</th>\n",
              "      <td>s4</td>\n",
              "      <td>Movie</td>\n",
              "      <td>9</td>\n",
              "      <td>Shane Acker</td>\n",
              "      <td>Elijah Wood, John C. Reilly, Jennifer Connelly...</td>\n",
              "      <td>United States</td>\n",
              "      <td>November 16, 2017</td>\n",
              "      <td>2009</td>\n",
              "      <td>PG-13</td>\n",
              "      <td>80 min</td>\n",
              "      <td>Action &amp; Adventure, Independent Movies, Sci-Fi...</td>\n",
              "      <td>In a postapocalyptic world, rag-doll robots hi...</td>\n",
              "    </tr>\n",
              "    <tr>\n",
              "      <th>4</th>\n",
              "      <td>s5</td>\n",
              "      <td>Movie</td>\n",
              "      <td>21</td>\n",
              "      <td>Robert Luketic</td>\n",
              "      <td>Jim Sturgess, Kevin Spacey, Kate Bosworth, Aar...</td>\n",
              "      <td>United States</td>\n",
              "      <td>January 1, 2020</td>\n",
              "      <td>2008</td>\n",
              "      <td>PG-13</td>\n",
              "      <td>123 min</td>\n",
              "      <td>Dramas</td>\n",
              "      <td>A brilliant group of students become card-coun...</td>\n",
              "    </tr>\n",
              "  </tbody>\n",
              "</table>\n",
              "</div>"
            ],
            "text/plain": [
              "  show_id  ...                                        description\n",
              "0      s1  ...  In a future where the elite inhabit an island ...\n",
              "1      s2  ...  After a devastating earthquake hits Mexico Cit...\n",
              "2      s3  ...  When an army recruit is found dead, his fellow...\n",
              "3      s4  ...  In a postapocalyptic world, rag-doll robots hi...\n",
              "4      s5  ...  A brilliant group of students become card-coun...\n",
              "\n",
              "[5 rows x 12 columns]"
            ]
          },
          "metadata": {},
          "execution_count": 95
        }
      ]
    },
    {
      "cell_type": "code",
      "metadata": {
        "colab": {
          "base_uri": "https://localhost:8080/"
        },
        "id": "D9LUPe5R19lS",
        "outputId": "c000e044-0820-40ae-a28c-f1f8c15bc1ae"
      },
      "source": [
        "#Lookin at the information of variables\n",
        "df.info()"
      ],
      "execution_count": 96,
      "outputs": [
        {
          "output_type": "stream",
          "name": "stdout",
          "text": [
            "<class 'pandas.core.frame.DataFrame'>\n",
            "RangeIndex: 7787 entries, 0 to 7786\n",
            "Data columns (total 12 columns):\n",
            " #   Column        Non-Null Count  Dtype \n",
            "---  ------        --------------  ----- \n",
            " 0   show_id       7787 non-null   object\n",
            " 1   type          7787 non-null   object\n",
            " 2   title         7787 non-null   object\n",
            " 3   director      5398 non-null   object\n",
            " 4   cast          7069 non-null   object\n",
            " 5   country       7280 non-null   object\n",
            " 6   date_added    7777 non-null   object\n",
            " 7   release_year  7787 non-null   int64 \n",
            " 8   rating        7780 non-null   object\n",
            " 9   duration      7787 non-null   object\n",
            " 10  listed_in     7787 non-null   object\n",
            " 11  description   7787 non-null   object\n",
            "dtypes: int64(1), object(11)\n",
            "memory usage: 730.2+ KB\n"
          ]
        }
      ]
    },
    {
      "cell_type": "code",
      "metadata": {
        "id": "AbHekaYzyv8y"
      },
      "source": [
        "#Splitting the listed_in column using ',' as delimiter\n",
        "ll=list(df.listed_in)\n",
        "list_of_listed_in=[]\n",
        "for i in range(0,7787):\n",
        "  list_of_listed_in.append(ll[i].split(','))\n"
      ],
      "execution_count": 97,
      "outputs": []
    },
    {
      "cell_type": "code",
      "metadata": {
        "id": "u6Di0C1Q3w07"
      },
      "source": [
        "#removing the nested list to process the data correctly\n",
        "output=[]\n",
        "def reemovNestings(l):\n",
        "   \n",
        "    for i in l:\n",
        "        if type(i) == list:\n",
        "            reemovNestings(i)\n",
        "        else:\n",
        "            output.append(i)\n",
        "reemovNestings(list_of_listed_in)\n"
      ],
      "execution_count": 98,
      "outputs": []
    },
    {
      "cell_type": "code",
      "metadata": {
        "id": "5uh3F-nUZdv-"
      },
      "source": [
        "#removing the whitespaces from the list\n",
        "o=[]\n",
        "for z in output:\n",
        "  o.append(z.strip())"
      ],
      "execution_count": 99,
      "outputs": []
    },
    {
      "cell_type": "code",
      "metadata": {
        "id": "1YYldLdbywAS"
      },
      "source": [
        "#getting the word count of listed_in\n",
        "listed_in_count = {}\n",
        "\n",
        "for i in o:\n",
        "  if i in listed_in_count.keys():\n",
        "    listed_in_count[i] += 1\n",
        "  else:\n",
        "    listed_in_count[i] = 1"
      ],
      "execution_count": 100,
      "outputs": []
    },
    {
      "cell_type": "code",
      "metadata": {
        "colab": {
          "base_uri": "https://localhost:8080/"
        },
        "id": "1VYkc0JK5yvf",
        "outputId": "a6d6b73d-4d9e-4680-ae3a-ba0d4b213848"
      },
      "source": [
        "listed_in_count"
      ],
      "execution_count": 101,
      "outputs": [
        {
          "output_type": "execute_result",
          "data": {
            "text/plain": [
              "{'Action & Adventure': 721,\n",
              " 'Anime Features': 57,\n",
              " 'Anime Series': 148,\n",
              " 'British TV Shows': 232,\n",
              " 'Children & Family Movies': 532,\n",
              " 'Classic & Cult TV': 27,\n",
              " 'Classic Movies': 103,\n",
              " 'Comedies': 1471,\n",
              " 'Crime TV Shows': 427,\n",
              " 'Cult Movies': 59,\n",
              " 'Documentaries': 786,\n",
              " 'Docuseries': 353,\n",
              " 'Dramas': 2106,\n",
              " 'Faith & Spirituality': 57,\n",
              " 'Horror Movies': 312,\n",
              " 'Independent Movies': 673,\n",
              " 'International Movies': 2437,\n",
              " 'International TV Shows': 1199,\n",
              " \"Kids' TV\": 414,\n",
              " 'Korean TV Shows': 150,\n",
              " 'LGBTQ Movies': 90,\n",
              " 'Movies': 56,\n",
              " 'Music & Musicals': 321,\n",
              " 'Reality TV': 222,\n",
              " 'Romantic Movies': 531,\n",
              " 'Romantic TV Shows': 333,\n",
              " 'Sci-Fi & Fantasy': 218,\n",
              " 'Science & Nature TV': 85,\n",
              " 'Spanish-Language TV Shows': 147,\n",
              " 'Sports Movies': 196,\n",
              " 'Stand-Up Comedy': 329,\n",
              " 'Stand-Up Comedy & Talk Shows': 52,\n",
              " 'TV Action & Adventure': 150,\n",
              " 'TV Comedies': 525,\n",
              " 'TV Dramas': 704,\n",
              " 'TV Horror': 69,\n",
              " 'TV Mysteries': 90,\n",
              " 'TV Sci-Fi & Fantasy': 76,\n",
              " 'TV Shows': 12,\n",
              " 'TV Thrillers': 50,\n",
              " 'Teen TV Shows': 60,\n",
              " 'Thrillers': 491}"
            ]
          },
          "metadata": {},
          "execution_count": 101
        }
      ]
    },
    {
      "cell_type": "code",
      "metadata": {
        "colab": {
          "base_uri": "https://localhost:8080/",
          "height": 265
        },
        "id": "thf3N6Cl6OmR",
        "outputId": "447b2f27-0345-47cb-ab0c-ecc55b0d434e"
      },
      "source": [
        "#making the word count dictionary as dataframe to visualize the data\n",
        "listed_in_df=pd.DataFrame(listed_in_count.items(), columns=['Categories', 'Count'])\n",
        "listed_in_df.set_index('Categories')\n",
        "listed_in_df.head(7)"
      ],
      "execution_count": 102,
      "outputs": [
        {
          "output_type": "execute_result",
          "data": {
            "text/html": [
              "<div>\n",
              "<style scoped>\n",
              "    .dataframe tbody tr th:only-of-type {\n",
              "        vertical-align: middle;\n",
              "    }\n",
              "\n",
              "    .dataframe tbody tr th {\n",
              "        vertical-align: top;\n",
              "    }\n",
              "\n",
              "    .dataframe thead th {\n",
              "        text-align: right;\n",
              "    }\n",
              "</style>\n",
              "<table border=\"1\" class=\"dataframe\">\n",
              "  <thead>\n",
              "    <tr style=\"text-align: right;\">\n",
              "      <th></th>\n",
              "      <th>Categories</th>\n",
              "      <th>Count</th>\n",
              "    </tr>\n",
              "  </thead>\n",
              "  <tbody>\n",
              "    <tr>\n",
              "      <th>0</th>\n",
              "      <td>International TV Shows</td>\n",
              "      <td>1199</td>\n",
              "    </tr>\n",
              "    <tr>\n",
              "      <th>1</th>\n",
              "      <td>TV Dramas</td>\n",
              "      <td>704</td>\n",
              "    </tr>\n",
              "    <tr>\n",
              "      <th>2</th>\n",
              "      <td>TV Sci-Fi &amp; Fantasy</td>\n",
              "      <td>76</td>\n",
              "    </tr>\n",
              "    <tr>\n",
              "      <th>3</th>\n",
              "      <td>Dramas</td>\n",
              "      <td>2106</td>\n",
              "    </tr>\n",
              "    <tr>\n",
              "      <th>4</th>\n",
              "      <td>International Movies</td>\n",
              "      <td>2437</td>\n",
              "    </tr>\n",
              "    <tr>\n",
              "      <th>5</th>\n",
              "      <td>Horror Movies</td>\n",
              "      <td>312</td>\n",
              "    </tr>\n",
              "    <tr>\n",
              "      <th>6</th>\n",
              "      <td>Action &amp; Adventure</td>\n",
              "      <td>721</td>\n",
              "    </tr>\n",
              "  </tbody>\n",
              "</table>\n",
              "</div>"
            ],
            "text/plain": [
              "               Categories  Count\n",
              "0  International TV Shows   1199\n",
              "1               TV Dramas    704\n",
              "2     TV Sci-Fi & Fantasy     76\n",
              "3                  Dramas   2106\n",
              "4    International Movies   2437\n",
              "5           Horror Movies    312\n",
              "6      Action & Adventure    721"
            ]
          },
          "metadata": {},
          "execution_count": 102
        }
      ]
    },
    {
      "cell_type": "code",
      "metadata": {
        "colab": {
          "base_uri": "https://localhost:8080/",
          "height": 462
        },
        "id": "Xe_3wCUf8MG9",
        "outputId": "87291eb3-b3b9-44a8-9d22-dbbcd4b03d0a"
      },
      "source": [
        "#bar graph for top 10 genre\n",
        "ld=listed_in_df.sort_values(by='Count',ascending=False)[0:10].reset_index()\n",
        "plt.figure(figsize=(25,7))\n",
        "sns.barplot(x=\"Categories\", y=\"Count\", data=ld)\n",
        "plt.title('Top 10 genre ')"
      ],
      "execution_count": 103,
      "outputs": [
        {
          "output_type": "execute_result",
          "data": {
            "text/plain": [
              "Text(0.5, 1.0, 'Top 10 genre ')"
            ]
          },
          "metadata": {},
          "execution_count": 103
        },
        {
          "output_type": "display_data",
          "data": {
            "image/png": "[encoded data removed]",
            "text/plain": [
              "<Figure size 1800x504 with 1 Axes>"
            ]
          },
          "metadata": {
            "needs_background": "light"
          }
        }
      ]
    },
    {
      "cell_type": "code",
      "metadata": {
        "colab": {
          "base_uri": "https://localhost:8080/",
          "height": 312
        },
        "id": "dqUpgvyd-n5J",
        "outputId": "7eeec639-d54f-4810-c31a-61c0f14cab7f"
      },
      "source": [
        "sns.countplot(x='type',data=df)\n",
        "plt.title('Count of TV shows & MOvies')"
      ],
      "execution_count": 104,
      "outputs": [
        {
          "output_type": "execute_result",
          "data": {
            "text/plain": [
              "Text(0.5, 1.0, 'Count of TV shows & MOvies')"
            ]
          },
          "metadata": {},
          "execution_count": 104
        },
        {
          "output_type": "display_data",
          "data": {
            "image/png": "[encoded data removed]",
            "text/plain": [
              "<Figure size 432x288 with 1 Axes>"
            ]
          },
          "metadata": {
            "needs_background": "light"
          }
        }
      ]
    },
    {
      "cell_type": "code",
      "metadata": {
        "id": "DpiR_-QN-3os"
      },
      "source": [
        "#handling the null values \n",
        "df['country'].fillna(value='No Country',inplace=True)"
      ],
      "execution_count": 105,
      "outputs": []
    },
    {
      "cell_type": "code",
      "metadata": {
        "id": "Kwxk1IQO_JjJ"
      },
      "source": [
        "#splitting the country column using ',' as delimiter\n",
        "lc=list(df.country)\n",
        "list_of_country=[]\n",
        "for i in range(0,7787):\n",
        "  list_of_country.append(lc[i].split(','))\n",
        "  #print(lc[i])"
      ],
      "execution_count": 106,
      "outputs": []
    },
    {
      "cell_type": "code",
      "metadata": {
        "id": "KSylO1fC860E"
      },
      "source": [
        "#removing the nested list\n",
        "output1=[]\n",
        "def reemovNestings(l):\n",
        "    for i in l:\n",
        "        if type(i) == list:\n",
        "            reemovNestings(i)\n",
        "        else:\n",
        "            output1.append(i)\n",
        "\n",
        "reemovNestings(list_of_country)\n"
      ],
      "execution_count": 107,
      "outputs": []
    },
    {
      "cell_type": "code",
      "metadata": {
        "id": "_kLa5BAFaKp5"
      },
      "source": [
        "#removing the whitespace\n",
        "o1=[]\n",
        "for x in output1:\n",
        "  o1.append(x.strip())"
      ],
      "execution_count": 108,
      "outputs": []
    },
    {
      "cell_type": "code",
      "metadata": {
        "id": "InG8QwZR863W"
      },
      "source": [
        "#getting the country count from country column\n",
        "list_of_country_count = {}\n",
        "\n",
        "for i in o1:\n",
        "  if i in list_of_country_count.keys():\n",
        "    list_of_country_count[i] += 1\n",
        "  else:\n",
        "    list_of_country_count[i] = 1"
      ],
      "execution_count": 109,
      "outputs": []
    },
    {
      "cell_type": "code",
      "metadata": {
        "colab": {
          "base_uri": "https://localhost:8080/",
          "height": 172
        },
        "id": "rchKqbJs868m",
        "outputId": "fea58f4a-7d15-4149-d8a6-1b5d1de98e93"
      },
      "source": [
        "#converting the count dictionary to dataframe for visualization\n",
        "listed_in_df1=pd.DataFrame(list_of_country_count.items(), columns=['Country', 'Count'])\n",
        "listed_in_df1.set_index('Country')\n",
        "listed_in_df1.head(4)"
      ],
      "execution_count": 110,
      "outputs": [
        {
          "output_type": "execute_result",
          "data": {
            "text/html": [
              "<div>\n",
              "<style scoped>\n",
              "    .dataframe tbody tr th:only-of-type {\n",
              "        vertical-align: middle;\n",
              "    }\n",
              "\n",
              "    .dataframe tbody tr th {\n",
              "        vertical-align: top;\n",
              "    }\n",
              "\n",
              "    .dataframe thead th {\n",
              "        text-align: right;\n",
              "    }\n",
              "</style>\n",
              "<table border=\"1\" class=\"dataframe\">\n",
              "  <thead>\n",
              "    <tr style=\"text-align: right;\">\n",
              "      <th></th>\n",
              "      <th>Country</th>\n",
              "      <th>Count</th>\n",
              "    </tr>\n",
              "  </thead>\n",
              "  <tbody>\n",
              "    <tr>\n",
              "      <th>0</th>\n",
              "      <td>Brazil</td>\n",
              "      <td>88</td>\n",
              "    </tr>\n",
              "    <tr>\n",
              "      <th>1</th>\n",
              "      <td>Mexico</td>\n",
              "      <td>154</td>\n",
              "    </tr>\n",
              "    <tr>\n",
              "      <th>2</th>\n",
              "      <td>Singapore</td>\n",
              "      <td>39</td>\n",
              "    </tr>\n",
              "    <tr>\n",
              "      <th>3</th>\n",
              "      <td>United States</td>\n",
              "      <td>3297</td>\n",
              "    </tr>\n",
              "  </tbody>\n",
              "</table>\n",
              "</div>"
            ],
            "text/plain": [
              "         Country  Count\n",
              "0         Brazil     88\n",
              "1         Mexico    154\n",
              "2      Singapore     39\n",
              "3  United States   3297"
            ]
          },
          "metadata": {},
          "execution_count": 110
        }
      ]
    },
    {
      "cell_type": "code",
      "metadata": {
        "colab": {
          "base_uri": "https://localhost:8080/",
          "height": 475
        },
        "id": "3yhJyxQo865s",
        "outputId": "ddd2f645-67fa-4b8e-a53a-6d796a123be0"
      },
      "source": [
        "#bar graph of top 10 countries\n",
        "ld1=listed_in_df1.sort_values(by='Count',ascending=False)[:11].reset_index()\n",
        "plt.figure(figsize=(20,7))\n",
        "sns.barplot(x=\"Country\", y=\"Count\", data=ld1)\n",
        "plt.title('Top 10 Countries with most number of movies/Tv shows produced')"
      ],
      "execution_count": 111,
      "outputs": [
        {
          "output_type": "execute_result",
          "data": {
            "text/plain": [
              "Text(0.5, 1.0, 'Top 10 Countries with most number of movies/Tv shows produced')"
            ]
          },
          "metadata": {},
          "execution_count": 111
        },
        {
          "output_type": "display_data",
          "data": {
            "image/png": "[encoded data removed]",
            "text/plain": [
              "<Figure size 1440x504 with 1 Axes>"
            ]
          },
          "metadata": {
            "needs_background": "light"
          }
        }
      ]
    },
    {
      "cell_type": "code",
      "metadata": {
        "id": "Mmn-erAPErXt"
      },
      "source": [
        "#import datetime library to extract the year and month from date_added column\n",
        "import datetime as dt\n",
        "df['date_added'] = pd.to_datetime(df['date_added'])\n",
        "df['Year_added'] = df['date_added'].dt.year\n",
        "df['Month_added']=df['date_added'].dt.month\n",
        "\n"
      ],
      "execution_count": 112,
      "outputs": []
    },
    {
      "cell_type": "code",
      "metadata": {
        "colab": {
          "base_uri": "https://localhost:8080/",
          "height": 371
        },
        "id": "jtuFb24KFjqf",
        "outputId": "a5f8b2d2-de1d-4558-b511-e7d57956f720"
      },
      "source": [
        "df.head(5)"
      ],
      "execution_count": 113,
      "outputs": [
        {
          "output_type": "execute_result",
          "data": {
            "text/html": [
              "<div>\n",
              "<style scoped>\n",
              "    .dataframe tbody tr th:only-of-type {\n",
              "        vertical-align: middle;\n",
              "    }\n",
              "\n",
              "    .dataframe tbody tr th {\n",
              "        vertical-align: top;\n",
              "    }\n",
              "\n",
              "    .dataframe thead th {\n",
              "        text-align: right;\n",
              "    }\n",
              "</style>\n",
              "<table border=\"1\" class=\"dataframe\">\n",
              "  <thead>\n",
              "    <tr style=\"text-align: right;\">\n",
              "      <th></th>\n",
              "      <th>show_id</th>\n",
              "      <th>type</th>\n",
              "      <th>title</th>\n",
              "      <th>director</th>\n",
              "      <th>cast</th>\n",
              "      <th>country</th>\n",
              "      <th>date_added</th>\n",
              "      <th>release_year</th>\n",
              "      <th>rating</th>\n",
              "      <th>duration</th>\n",
              "      <th>listed_in</th>\n",
              "      <th>description</th>\n",
              "      <th>Year_added</th>\n",
              "      <th>Month_added</th>\n",
              "    </tr>\n",
              "  </thead>\n",
              "  <tbody>\n",
              "    <tr>\n",
              "      <th>0</th>\n",
              "      <td>s1</td>\n",
              "      <td>TV Show</td>\n",
              "      <td>3%</td>\n",
              "      <td>NaN</td>\n",
              "      <td>João Miguel, Bianca Comparato, Michel Gomes, R...</td>\n",
              "      <td>Brazil</td>\n",
              "      <td>2020-08-14</td>\n",
              "      <td>2020</td>\n",
              "      <td>TV-MA</td>\n",
              "      <td>4 Seasons</td>\n",
              "      <td>International TV Shows, TV Dramas, TV Sci-Fi &amp;...</td>\n",
              "      <td>In a future where the elite inhabit an island ...</td>\n",
              "      <td>2020.0</td>\n",
              "      <td>8.0</td>\n",
              "    </tr>\n",
              "    <tr>\n",
              "      <th>1</th>\n",
              "      <td>s2</td>\n",
              "      <td>Movie</td>\n",
              "      <td>7:19</td>\n",
              "      <td>Jorge Michel Grau</td>\n",
              "      <td>Demián Bichir, Héctor Bonilla, Oscar Serrano, ...</td>\n",
              "      <td>Mexico</td>\n",
              "      <td>2016-12-23</td>\n",
              "      <td>2016</td>\n",
              "      <td>TV-MA</td>\n",
              "      <td>93 min</td>\n",
              "      <td>Dramas, International Movies</td>\n",
              "      <td>After a devastating earthquake hits Mexico Cit...</td>\n",
              "      <td>2016.0</td>\n",
              "      <td>12.0</td>\n",
              "    </tr>\n",
              "    <tr>\n",
              "      <th>2</th>\n",
              "      <td>s3</td>\n",
              "      <td>Movie</td>\n",
              "      <td>23:59</td>\n",
              "      <td>Gilbert Chan</td>\n",
              "      <td>Tedd Chan, Stella Chung, Henley Hii, Lawrence ...</td>\n",
              "      <td>Singapore</td>\n",
              "      <td>2018-12-20</td>\n",
              "      <td>2011</td>\n",
              "      <td>R</td>\n",
              "      <td>78 min</td>\n",
              "      <td>Horror Movies, International Movies</td>\n",
              "      <td>When an army recruit is found dead, his fellow...</td>\n",
              "      <td>2018.0</td>\n",
              "      <td>12.0</td>\n",
              "    </tr>\n",
              "    <tr>\n",
              "      <th>3</th>\n",
              "      <td>s4</td>\n",
              "      <td>Movie</td>\n",
              "      <td>9</td>\n",
              "      <td>Shane Acker</td>\n",
              "      <td>Elijah Wood, John C. Reilly, Jennifer Connelly...</td>\n",
              "      <td>United States</td>\n",
              "      <td>2017-11-16</td>\n",
              "      <td>2009</td>\n",
              "      <td>PG-13</td>\n",
              "      <td>80 min</td>\n",
              "      <td>Action &amp; Adventure, Independent Movies, Sci-Fi...</td>\n",
              "      <td>In a postapocalyptic world, rag-doll robots hi...</td>\n",
              "      <td>2017.0</td>\n",
              "      <td>11.0</td>\n",
              "    </tr>\n",
              "    <tr>\n",
              "      <th>4</th>\n",
              "      <td>s5</td>\n",
              "      <td>Movie</td>\n",
              "      <td>21</td>\n",
              "      <td>Robert Luketic</td>\n",
              "      <td>Jim Sturgess, Kevin Spacey, Kate Bosworth, Aar...</td>\n",
              "      <td>United States</td>\n",
              "      <td>2020-01-01</td>\n",
              "      <td>2008</td>\n",
              "      <td>PG-13</td>\n",
              "      <td>123 min</td>\n",
              "      <td>Dramas</td>\n",
              "      <td>A brilliant group of students become card-coun...</td>\n",
              "      <td>2020.0</td>\n",
              "      <td>1.0</td>\n",
              "    </tr>\n",
              "  </tbody>\n",
              "</table>\n",
              "</div>"
            ],
            "text/plain": [
              "  show_id     type  ... Year_added Month_added\n",
              "0      s1  TV Show  ...     2020.0         8.0\n",
              "1      s2    Movie  ...     2016.0        12.0\n",
              "2      s3    Movie  ...     2018.0        12.0\n",
              "3      s4    Movie  ...     2017.0        11.0\n",
              "4      s5    Movie  ...     2020.0         1.0\n",
              "\n",
              "[5 rows x 14 columns]"
            ]
          },
          "metadata": {},
          "execution_count": 113
        }
      ]
    },
    {
      "cell_type": "code",
      "metadata": {
        "colab": {
          "base_uri": "https://localhost:8080/",
          "height": 368
        },
        "id": "9yYrR-h3HnrW",
        "outputId": "1f7c9570-e925-41af-c127-b29db6a8ebcf"
      },
      "source": [
        "#bar graph of yearwise count of shows\n",
        "plt.figure(figsize=(12,5))\n",
        "plt.title('Year wise total number of content')\n",
        "sns.countplot(x='Year_added',data=df)"
      ],
      "execution_count": 114,
      "outputs": [
        {
          "output_type": "execute_result",
          "data": {
            "text/plain": [
              "<matplotlib.axes._subplots.AxesSubplot at 0x7fa3c93f6a90>"
            ]
          },
          "metadata": {},
          "execution_count": 114
        },
        {
          "output_type": "display_data",
          "data": {
            "image/png": "[encoded data removed]",
            "text/plain": [
              "<Figure size 864x360 with 1 Axes>"
            ]
          },
          "metadata": {
            "needs_background": "light"
          }
        }
      ]
    },
    {
      "cell_type": "code",
      "metadata": {
        "colab": {
          "base_uri": "https://localhost:8080/",
          "height": 368
        },
        "id": "-0ACQuxwH5L4",
        "outputId": "be55c4ed-a58b-4250-d2ac-22a33f81286d"
      },
      "source": [
        "#bar graph of month wise count of shows\n",
        "plt.figure(figsize=(12,5))\n",
        "plt.title('Month wise total number of shows')\n",
        "sns.countplot(x='Month_added',data=df)"
      ],
      "execution_count": 115,
      "outputs": [
        {
          "output_type": "execute_result",
          "data": {
            "text/plain": [
              "<matplotlib.axes._subplots.AxesSubplot at 0x7fa3baf84450>"
            ]
          },
          "metadata": {},
          "execution_count": 115
        },
        {
          "output_type": "display_data",
          "data": {
            "image/png": "[encoded data removed]",
            "text/plain": [
              "<Figure size 864x360 with 1 Axes>"
            ]
          },
          "metadata": {
            "needs_background": "light"
          }
        }
      ]
    },
    {
      "cell_type": "code",
      "metadata": {
        "id": "BVnCo41cIy2c"
      },
      "source": [
        "# making  a copy of cast column and splitting using ',' as delimiter\n",
        "casts = \", \".join(df.copy().fillna(\"\")['cast']).split(\", \")"
      ],
      "execution_count": 116,
      "outputs": []
    },
    {
      "cell_type": "code",
      "metadata": {
        "id": "ZcZqyzVjLeqN"
      },
      "source": [
        "#getting the cast count dictionary\n",
        "list_of_casts= {}\n",
        "\n",
        "for i in casts:\n",
        "  if i in list_of_casts.keys():\n",
        "    list_of_casts[i] += 1\n",
        "  else:\n",
        "    list_of_casts[i] = 1"
      ],
      "execution_count": 117,
      "outputs": []
    },
    {
      "cell_type": "code",
      "metadata": {
        "colab": {
          "base_uri": "https://localhost:8080/",
          "height": 172
        },
        "id": "j4mdxqEtOFwI",
        "outputId": "ca0b0b3e-4b90-49c6-b350-ed23d2f1345f"
      },
      "source": [
        "#converting the count dictionary to dataframe for viz\n",
        "listed_in_df2=pd.DataFrame(list_of_casts.items(), columns=['Cast_Name', 'Count'])\n",
        "listed_in_df2.set_index('Cast_Name').head(3)"
      ],
      "execution_count": 118,
      "outputs": [
        {
          "output_type": "execute_result",
          "data": {
            "text/html": [
              "<div>\n",
              "<style scoped>\n",
              "    .dataframe tbody tr th:only-of-type {\n",
              "        vertical-align: middle;\n",
              "    }\n",
              "\n",
              "    .dataframe tbody tr th {\n",
              "        vertical-align: top;\n",
              "    }\n",
              "\n",
              "    .dataframe thead th {\n",
              "        text-align: right;\n",
              "    }\n",
              "</style>\n",
              "<table border=\"1\" class=\"dataframe\">\n",
              "  <thead>\n",
              "    <tr style=\"text-align: right;\">\n",
              "      <th></th>\n",
              "      <th>Count</th>\n",
              "    </tr>\n",
              "    <tr>\n",
              "      <th>Cast_Name</th>\n",
              "      <th></th>\n",
              "    </tr>\n",
              "  </thead>\n",
              "  <tbody>\n",
              "    <tr>\n",
              "      <th>João Miguel</th>\n",
              "      <td>1</td>\n",
              "    </tr>\n",
              "    <tr>\n",
              "      <th>Bianca Comparato</th>\n",
              "      <td>2</td>\n",
              "    </tr>\n",
              "    <tr>\n",
              "      <th>Michel Gomes</th>\n",
              "      <td>1</td>\n",
              "    </tr>\n",
              "  </tbody>\n",
              "</table>\n",
              "</div>"
            ],
            "text/plain": [
              "                  Count\n",
              "Cast_Name              \n",
              "João Miguel           1\n",
              "Bianca Comparato      2\n",
              "Michel Gomes          1"
            ]
          },
          "metadata": {},
          "execution_count": 118
        }
      ]
    },
    {
      "cell_type": "code",
      "metadata": {
        "colab": {
          "base_uri": "https://localhost:8080/",
          "height": 476
        },
        "id": "wQKdPhtsPIaR",
        "outputId": "15239407-0ebd-4884-f8c2-355a3ddba90d"
      },
      "source": [
        "#bar graph of top 10 actors\n",
        "ld2=listed_in_df2.sort_values(by='Count',ascending=False)[1:10].reset_index()\n",
        "plt.figure(figsize=(20,7))\n",
        "sns.barplot(x=\"Cast_Name\", y=\"Count\", data=ld2,palette=\"Paired\")\n",
        "plt.title('Top 10 Cast Name with most number of movies/shows produced')"
      ],
      "execution_count": 119,
      "outputs": [
        {
          "output_type": "execute_result",
          "data": {
            "text/plain": [
              "Text(0.5, 1.0, 'Top 10 Cast Name with most number of movies/shows produced')"
            ]
          },
          "metadata": {},
          "execution_count": 119
        },
        {
          "output_type": "display_data",
          "data": {
            "image/png": "[encoded data removed]",
            "text/plain": [
              "<Figure size 1440x504 with 1 Axes>"
            ]
          },
          "metadata": {
            "needs_background": "light"
          }
        }
      ]
    },
    {
      "cell_type": "code",
      "metadata": {
        "id": "D-k-1m-oMDai"
      },
      "source": [
        "#extracting most popular director\n",
        "most_common_directors = df.director.value_counts().head(5).sort_values(ascending=False)"
      ],
      "execution_count": 120,
      "outputs": []
    },
    {
      "cell_type": "code",
      "metadata": {
        "colab": {
          "base_uri": "https://localhost:8080/",
          "height": 313
        },
        "id": "hsKlSGoiMOXp",
        "outputId": "f0b2fbd3-ded6-444b-cd03-23713b095f1b"
      },
      "source": [
        "#bar graph of top 5 directors\n",
        "md=most_common_directors.reset_index()\n",
        "plt.figure(figsize=(10,4))\n",
        "sns.barplot(x='index',y='director',data=md)\n",
        "plt.title('Top 5 Directors')\n",
        "plt.xlabel('Director')\n",
        "plt.ylabel('Count')\n"
      ],
      "execution_count": 121,
      "outputs": [
        {
          "output_type": "execute_result",
          "data": {
            "text/plain": [
              "Text(0, 0.5, 'Count')"
            ]
          },
          "metadata": {},
          "execution_count": 121
        },
        {
          "output_type": "display_data",
          "data": {
            "image/png": "[encoded data removed]",
            "text/plain": [
              "<Figure size 720x288 with 1 Axes>"
            ]
          },
          "metadata": {
            "needs_background": "light"
          }
        }
      ]
    },
    {
      "cell_type": "code",
      "metadata": {
        "id": "mYEMQYiGb_sq"
      },
      "source": [
        "# bifurcating the movies and tv shows from type column\n",
        "movie_rows = df.loc[df[\"type\"] == \"Movie\"]\n",
        "tv_rows = df.loc[df[\"type\"] == \"TV Show\"]\n"
      ],
      "execution_count": 122,
      "outputs": []
    },
    {
      "cell_type": "code",
      "metadata": {
        "id": "mvybnlZxjDko"
      },
      "source": [
        "#getting the count of movies and tv shows\n",
        "movies_counts = movie_rows.Year_added.value_counts()\n",
        "tv_counts = tv_rows.Year_added.value_counts()\n"
      ],
      "execution_count": 123,
      "outputs": []
    },
    {
      "cell_type": "code",
      "metadata": {
        "colab": {
          "base_uri": "https://localhost:8080/",
          "height": 282
        },
        "id": "uINfwatKnKeU",
        "outputId": "a78747df-011c-48ce-d625-3384455dd5f8"
      },
      "source": [
        "#line graph for movies and tv shows count\n",
        "sns.lineplot(data=movies_counts, color=\"c\",label=\"Movies / year\")\n",
        "sns.lineplot(data=tv_counts, color=\"m\", label=\"TV Shows / year\")"
      ],
      "execution_count": 124,
      "outputs": [
        {
          "output_type": "execute_result",
          "data": {
            "text/plain": [
              "<matplotlib.axes._subplots.AxesSubplot at 0x7fa3bba2d110>"
            ]
          },
          "metadata": {},
          "execution_count": 124
        },
        {
          "output_type": "display_data",
          "data": {
            "image/png": "[encoded data removed]",
            "text/plain": [
              "<Figure size 432x288 with 1 Axes>"
            ]
          },
          "metadata": {
            "needs_background": "light"
          }
        }
      ]
    },
    {
      "cell_type": "code",
      "metadata": {
        "colab": {
          "base_uri": "https://localhost:8080/"
        },
        "id": "b_pWNpFozxx0",
        "outputId": "25aa637e-b0c4-4336-a6dc-cea38b191617"
      },
      "source": [
        "df.description"
      ],
      "execution_count": 125,
      "outputs": [
        {
          "output_type": "execute_result",
          "data": {
            "text/plain": [
              "0       In a future where the elite inhabit an island ...\n",
              "1       After a devastating earthquake hits Mexico Cit...\n",
              "2       When an army recruit is found dead, his fellow...\n",
              "3       In a postapocalyptic world, rag-doll robots hi...\n",
              "4       A brilliant group of students become card-coun...\n",
              "                              ...                        \n",
              "7782    When Lebanon's Civil War deprives Zozo of his ...\n",
              "7783    A scrappy but poor boy worms his way into a ty...\n",
              "7784    In this documentary, South African rapper Nast...\n",
              "7785    Dessert wizard Adriano Zumbo looks for the nex...\n",
              "7786    This documentary delves into the mystique behi...\n",
              "Name: description, Length: 7787, dtype: object"
            ]
          },
          "metadata": {},
          "execution_count": 125
        }
      ]
    },
    {
      "cell_type": "code",
      "metadata": {
        "colab": {
          "base_uri": "https://localhost:8080/"
        },
        "id": "BgAfCxWh4KET",
        "outputId": "6bb43ac1-e9de-4fb3-fa72-409a9175b704"
      },
      "source": [
        "#importing the required libraries for nlp\n",
        "import nltk\n",
        "nltk.download('punkt')\n",
        "nltk.download('stopwords')\n",
        "import re\n",
        "from nltk.corpus import stopwords\n",
        "from nltk.stem.snowball import SnowballStemmer\n",
        "from nltk.stem import WordNetLemmatizer\n",
        "from sklearn import preprocessing\n",
        "from sklearn.feature_extraction.text import CountVectorizer, TfidfVectorizer"
      ],
      "execution_count": 131,
      "outputs": [
        {
          "output_type": "stream",
          "name": "stdout",
          "text": [
            "[nltk_data] Downloading package punkt to /root/nltk_data...\n",
            "[nltk_data]   Package punkt is already up-to-date!\n",
            "[nltk_data] Downloading package stopwords to /root/nltk_data...\n",
            "[nltk_data]   Package stopwords is already up-to-date!\n"
          ]
        }
      ]
    },
    {
      "cell_type": "code",
      "metadata": {
        "colab": {
          "base_uri": "https://localhost:8080/"
        },
        "id": "a7F425fh7MoT",
        "outputId": "25913b2d-b2b2-4bfb-b197-a4c74f191bff"
      },
      "source": [
        "#storing stopwords in an array\n",
        "sw =stopwords.words('english')\n",
        "np.array(sw)"
      ],
      "execution_count": 133,
      "outputs": [
        {
          "output_type": "execute_result",
          "data": {
            "text/plain": [
              "array(['i', 'me', 'my', 'myself', 'we', 'our', 'ours', 'ourselves', 'you',\n",
              "       \"you're\", \"you've\", \"you'll\", \"you'd\", 'your', 'yours', 'yourself',\n",
              "       'yourselves', 'he', 'him', 'his', 'himself', 'she', \"she's\", 'her',\n",
              "       'hers', 'herself', 'it', \"it's\", 'its', 'itself', 'they', 'them',\n",
              "       'their', 'theirs', 'themselves', 'what', 'which', 'who', 'whom',\n",
              "       'this', 'that', \"that'll\", 'these', 'those', 'am', 'is', 'are',\n",
              "       'was', 'were', 'be', 'been', 'being', 'have', 'has', 'had',\n",
              "       'having', 'do', 'does', 'did', 'doing', 'a', 'an', 'the', 'and',\n",
              "       'but', 'if', 'or', 'because', 'as', 'until', 'while', 'of', 'at',\n",
              "       'by', 'for', 'with', 'about', 'against', 'between', 'into',\n",
              "       'through', 'during', 'before', 'after', 'above', 'below', 'to',\n",
              "       'from', 'up', 'down', 'in', 'out', 'on', 'off', 'over', 'under',\n",
              "       'again', 'further', 'then', 'once', 'here', 'there', 'when',\n",
              "       'where', 'why', 'how', 'all', 'any', 'both', 'each', 'few', 'more',\n",
              "       'most', 'other', 'some', 'such', 'no', 'nor', 'not', 'only', 'own',\n",
              "       'same', 'so', 'than', 'too', 'very', 's', 't', 'can', 'will',\n",
              "       'just', 'don', \"don't\", 'should', \"should've\", 'now', 'd', 'll',\n",
              "       'm', 'o', 're', 've', 'y', 'ain', 'aren', \"aren't\", 'couldn',\n",
              "       \"couldn't\", 'didn', \"didn't\", 'doesn', \"doesn't\", 'hadn', \"hadn't\",\n",
              "       'hasn', \"hasn't\", 'haven', \"haven't\", 'isn', \"isn't\", 'ma',\n",
              "       'mightn', \"mightn't\", 'mustn', \"mustn't\", 'needn', \"needn't\",\n",
              "       'shan', \"shan't\", 'shouldn', \"shouldn't\", 'wasn', \"wasn't\",\n",
              "       'weren', \"weren't\", 'won', \"won't\", 'wouldn', \"wouldn't\"],\n",
              "      dtype='<U10')"
            ]
          },
          "metadata": {},
          "execution_count": 133
        }
      ]
    },
    {
      "cell_type": "code",
      "metadata": {
        "id": "EFyLz-OH4M8v"
      },
      "source": [
        "# function for removing punctuation and stopwords\n",
        "def remove_punctuation(text):\n",
        "    import string\n",
        "    translator = str.maketrans('', '', string.punctuation)\n",
        "    return text.translate(translator)\n",
        "    corpus.append(review)\n",
        "\n",
        "\n",
        "\n",
        "def stopwords(text):\n",
        "    text = [word.lower() for word in text.split() if word.lower() not in sw]\n",
        "    # joining the list of words with space separator\n",
        "    return \" \".join(text)\n"
      ],
      "execution_count": 135,
      "outputs": []
    },
    {
      "cell_type": "code",
      "metadata": {
        "id": "jHlbJgv55UCl"
      },
      "source": [
        "#removing punctuation\n",
        "df['description'] = df['description'].apply(remove_punctuation)\n"
      ],
      "execution_count": 136,
      "outputs": []
    },
    {
      "cell_type": "code",
      "metadata": {
        "id": "h_EJInR65UPT"
      },
      "source": [
        "#removing stopwords\n",
        "df['description']=df['description'].apply(stopwords)"
      ],
      "execution_count": 137,
      "outputs": []
    },
    {
      "cell_type": "code",
      "metadata": {
        "colab": {
          "base_uri": "https://localhost:8080/",
          "height": 371
        },
        "id": "Sg9FYTFp6xvd",
        "outputId": "9058ae59-dfbc-4e46-a323-a396ce046a39"
      },
      "source": [
        "df.head(5)"
      ],
      "execution_count": 138,
      "outputs": [
        {
          "output_type": "execute_result",
          "data": {
            "text/html": [
              "<div>\n",
              "<style scoped>\n",
              "    .dataframe tbody tr th:only-of-type {\n",
              "        vertical-align: middle;\n",
              "    }\n",
              "\n",
              "    .dataframe tbody tr th {\n",
              "        vertical-align: top;\n",
              "    }\n",
              "\n",
              "    .dataframe thead th {\n",
              "        text-align: right;\n",
              "    }\n",
              "</style>\n",
              "<table border=\"1\" class=\"dataframe\">\n",
              "  <thead>\n",
              "    <tr style=\"text-align: right;\">\n",
              "      <th></th>\n",
              "      <th>show_id</th>\n",
              "      <th>type</th>\n",
              "      <th>title</th>\n",
              "      <th>director</th>\n",
              "      <th>cast</th>\n",
              "      <th>country</th>\n",
              "      <th>date_added</th>\n",
              "      <th>release_year</th>\n",
              "      <th>rating</th>\n",
              "      <th>duration</th>\n",
              "      <th>listed_in</th>\n",
              "      <th>description</th>\n",
              "      <th>Year_added</th>\n",
              "      <th>Month_added</th>\n",
              "    </tr>\n",
              "  </thead>\n",
              "  <tbody>\n",
              "    <tr>\n",
              "      <th>0</th>\n",
              "      <td>s1</td>\n",
              "      <td>TV Show</td>\n",
              "      <td>3%</td>\n",
              "      <td>NaN</td>\n",
              "      <td>João Miguel, Bianca Comparato, Michel Gomes, R...</td>\n",
              "      <td>Brazil</td>\n",
              "      <td>2020-08-14</td>\n",
              "      <td>2020</td>\n",
              "      <td>TV-MA</td>\n",
              "      <td>4 Seasons</td>\n",
              "      <td>International TV Shows, TV Dramas, TV Sci-Fi &amp;...</td>\n",
              "      <td>future elite inhabit island paradise far crowd...</td>\n",
              "      <td>2020.0</td>\n",
              "      <td>8.0</td>\n",
              "    </tr>\n",
              "    <tr>\n",
              "      <th>1</th>\n",
              "      <td>s2</td>\n",
              "      <td>Movie</td>\n",
              "      <td>7:19</td>\n",
              "      <td>Jorge Michel Grau</td>\n",
              "      <td>Demián Bichir, Héctor Bonilla, Oscar Serrano, ...</td>\n",
              "      <td>Mexico</td>\n",
              "      <td>2016-12-23</td>\n",
              "      <td>2016</td>\n",
              "      <td>TV-MA</td>\n",
              "      <td>93 min</td>\n",
              "      <td>Dramas, International Movies</td>\n",
              "      <td>devastating earthquake hits mexico city trappe...</td>\n",
              "      <td>2016.0</td>\n",
              "      <td>12.0</td>\n",
              "    </tr>\n",
              "    <tr>\n",
              "      <th>2</th>\n",
              "      <td>s3</td>\n",
              "      <td>Movie</td>\n",
              "      <td>23:59</td>\n",
              "      <td>Gilbert Chan</td>\n",
              "      <td>Tedd Chan, Stella Chung, Henley Hii, Lawrence ...</td>\n",
              "      <td>Singapore</td>\n",
              "      <td>2018-12-20</td>\n",
              "      <td>2011</td>\n",
              "      <td>R</td>\n",
              "      <td>78 min</td>\n",
              "      <td>Horror Movies, International Movies</td>\n",
              "      <td>army recruit found dead fellow soldiers forced...</td>\n",
              "      <td>2018.0</td>\n",
              "      <td>12.0</td>\n",
              "    </tr>\n",
              "    <tr>\n",
              "      <th>3</th>\n",
              "      <td>s4</td>\n",
              "      <td>Movie</td>\n",
              "      <td>9</td>\n",
              "      <td>Shane Acker</td>\n",
              "      <td>Elijah Wood, John C. Reilly, Jennifer Connelly...</td>\n",
              "      <td>United States</td>\n",
              "      <td>2017-11-16</td>\n",
              "      <td>2009</td>\n",
              "      <td>PG-13</td>\n",
              "      <td>80 min</td>\n",
              "      <td>Action &amp; Adventure, Independent Movies, Sci-Fi...</td>\n",
              "      <td>postapocalyptic world ragdoll robots hide fear...</td>\n",
              "      <td>2017.0</td>\n",
              "      <td>11.0</td>\n",
              "    </tr>\n",
              "    <tr>\n",
              "      <th>4</th>\n",
              "      <td>s5</td>\n",
              "      <td>Movie</td>\n",
              "      <td>21</td>\n",
              "      <td>Robert Luketic</td>\n",
              "      <td>Jim Sturgess, Kevin Spacey, Kate Bosworth, Aar...</td>\n",
              "      <td>United States</td>\n",
              "      <td>2020-01-01</td>\n",
              "      <td>2008</td>\n",
              "      <td>PG-13</td>\n",
              "      <td>123 min</td>\n",
              "      <td>Dramas</td>\n",
              "      <td>brilliant group students become cardcounting e...</td>\n",
              "      <td>2020.0</td>\n",
              "      <td>1.0</td>\n",
              "    </tr>\n",
              "  </tbody>\n",
              "</table>\n",
              "</div>"
            ],
            "text/plain": [
              "  show_id     type  ... Year_added Month_added\n",
              "0      s1  TV Show  ...     2020.0         8.0\n",
              "1      s2    Movie  ...     2016.0        12.0\n",
              "2      s3    Movie  ...     2018.0        12.0\n",
              "3      s4    Movie  ...     2017.0        11.0\n",
              "4      s5    Movie  ...     2020.0         1.0\n",
              "\n",
              "[5 rows x 14 columns]"
            ]
          },
          "metadata": {},
          "execution_count": 138
        }
      ]
    },
    {
      "cell_type": "code",
      "metadata": {
        "id": "p5zUPwh98g0D"
      },
      "source": [
        "#Intializing the stemmer object\n",
        "stemmer = SnowballStemmer(\"english\")\n",
        "\n",
        "def stemming(text):    \n",
        "    text = [stemmer.stem(word) for word in text.split()]\n",
        "    return \" \".join(text) "
      ],
      "execution_count": 139,
      "outputs": []
    },
    {
      "cell_type": "code",
      "metadata": {
        "colab": {
          "base_uri": "https://localhost:8080/"
        },
        "id": "YXn6pkCP8yb0",
        "outputId": "9948a98a-4da5-4227-dfbb-e2095633e50b"
      },
      "source": [
        "#applyng stemmimg \n",
        "df['description'] = df['description'].apply(stemming)\n",
        "df.description.head(10)"
      ],
      "execution_count": 140,
      "outputs": [
        {
          "output_type": "execute_result",
          "data": {
            "text/plain": [
              "0    futur elit inhabit island paradis far crowd sl...\n",
              "1    devast earthquak hit mexico citi trap survivor...\n",
              "2    armi recruit found dead fellow soldier forc co...\n",
              "3    postapocalypt world ragdol robot hide fear dan...\n",
              "4    brilliant group student becom cardcount expert...\n",
              "5    genet professor experi treatment comatos siste...\n",
              "6    aw accid coupl admit grisli hospit separ must ...\n",
              "7    one high school student attack dedic teacher t...\n",
              "8    doctor goe miss psychiatrist wife treat bizarr...\n",
              "9    architect wife move castl slate becom luxuri h...\n",
              "Name: description, dtype: object"
            ]
          },
          "metadata": {},
          "execution_count": 140
        }
      ]
    },
    {
      "cell_type": "code",
      "metadata": {
        "id": "hn9bDB-t8ylD"
      },
      "source": [
        "#function to get top words\n",
        "def get_top_n_words(n_top_words, count_vectorizer, text_data):\n",
        "    vectorized_description = count_vectorizer.fit_transform(text_data.values)\n",
        "    vectorized_total = np.sum(vectorized_description, axis=0)\n",
        "    word_indices = np.flip(np.argsort(vectorized_total)[0,:], 1)\n",
        "    word_values = np.flip(np.sort(vectorized_total)[0,:],1)\n",
        "    \n",
        "    word_vectors = np.zeros((n_top_words, vectorized_description.shape[1]))\n",
        "    for i in range(n_top_words):\n",
        "        word_vectors[i,word_indices[0,i]] = 1\n",
        "\n",
        "    words = [word[0].encode('ascii').decode('utf-8') for \n",
        "             word in count_vectorizer.inverse_transform(word_vectors)]\n",
        "\n",
        "    return (words, word_values[0,:n_top_words].tolist()[0])"
      ],
      "execution_count": 141,
      "outputs": []
    },
    {
      "cell_type": "code",
      "metadata": {
        "colab": {
          "base_uri": "https://localhost:8080/",
          "height": 566
        },
        "id": "3ATm1U1I-98k",
        "outputId": "95626303-dc82-4e61-fa23-8184718cac32"
      },
      "source": [
        "#initializing count vectorizer object\n",
        "count_vectorizer = CountVectorizer(stop_words='english')\n",
        "words, word_values = get_top_n_words(n_top_words=15,\n",
        "                                     count_vectorizer=count_vectorizer, \n",
        "                                     text_data=df.description)\n",
        "\n",
        "#bar graph of top 15 words\n",
        "fig, ax = plt.subplots(figsize=(16,8))\n",
        "ax.bar(range(len(words)), word_values)\n",
        "ax.set_xticks(range(len(words)))\n",
        "ax.set_xticklabels(words, rotation='vertical')\n",
        "ax.set_title('Top words in decription column (excluding stop words)')\n",
        "ax.set_xlabel('Word')\n",
        "ax.set_ylabel('Number of occurences')\n",
        "plt.show()"
      ],
      "execution_count": 142,
      "outputs": [
        {
          "output_type": "display_data",
          "data": {
            "image/png": "[encoded data removed]",
            "text/plain": [
              "<Figure size 1152x576 with 1 Axes>"
            ]
          },
          "metadata": {
            "needs_background": "light"
          }
        }
      ]
    },
    {
      "cell_type": "code",
      "metadata": {
        "colab": {
          "base_uri": "https://localhost:8080/"
        },
        "id": "B-CPp99SAGe9",
        "outputId": "54c5c50e-d615-49bd-f3fe-76865fd4bceb"
      },
      "source": [
        "description_count_vectorizer = CountVectorizer(stop_words='english', max_features=4000)\n",
        "description_text =df.description\n",
        "\n",
        "print('decription before vectorization: {}'.format(description_text[123]))\n",
        "\n",
        "#getting the document term matrix\n",
        "document_term_matrix = description_count_vectorizer.fit_transform(description_text)\n",
        "\n",
        "print('description after vectorization: \\n{}'.format(document_term_matrix[123]))"
      ],
      "execution_count": 143,
      "outputs": [
        {
          "output_type": "stream",
          "name": "stdout",
          "text": [
            "decription before vectorization: five friend embark mission climb highest peak java overcom obstacl way discov true mean friendship\n",
            "description after vectorization: \n",
            "  (0, 1416)\t1\n",
            "  (0, 3709)\t1\n",
            "  (0, 1417)\t1\n",
            "  (0, 2464)\t1\n",
            "  (0, 3898)\t1\n",
            "  (0, 1099)\t1\n",
            "  (0, 2304)\t1\n",
            "  (0, 639)\t1\n",
            "  (0, 2594)\t1\n",
            "  (0, 2537)\t1\n",
            "  (0, 954)\t1\n",
            "  (0, 2224)\t1\n"
          ]
        }
      ]
    },
    {
      "cell_type": "code",
      "metadata": {
        "id": "gP3NlIiaBO-d"
      },
      "source": [
        "#import LatentDirichletAllocation for topic modelling\n",
        "from sklearn.decomposition import LatentDirichletAllocation\n"
      ],
      "execution_count": 144,
      "outputs": []
    },
    {
      "cell_type": "code",
      "metadata": {
        "colab": {
          "base_uri": "https://localhost:8080/"
        },
        "id": "EUjrEVYNAcyZ",
        "outputId": "e741d10f-ba48-4a3f-eded-1b6ba287413c"
      },
      "source": [
        "# Parameters tuning using Grid Search\n",
        "from sklearn.model_selection import GridSearchCV\n",
        "grid_params = {'n_components' : list(range(6,10))}\n",
        "\n",
        "# LDA model\n",
        "lda = LatentDirichletAllocation(doc_topic_prior=0.5, topic_word_prior=0.5,max_iter=10, batch_size=1000,random_state=15)\n",
        "lda_model = GridSearchCV(lda,param_grid=grid_params,cv=3)\n",
        "lda_model.fit(document_term_matrix)\n",
        "\n",
        "# Best LDA model\n",
        "best_lda_model = lda_model.best_estimator_\n",
        "\n",
        "print(\"Best LDA model's params\" , lda_model.best_params_)\n",
        "print(\"Best log likelihood Score for the LDA model\",lda_model.best_score_)\n",
        "print(\"LDA model Perplexity on train data\", best_lda_model.perplexity(document_term_matrix))"
      ],
      "execution_count": 145,
      "outputs": [
        {
          "output_type": "stream",
          "name": "stderr",
          "text": [
            "/usr/local/lib/python3.7/dist-packages/sklearn/model_selection/_split.py:440: DeprecationWarning: `np.int` is a deprecated alias for the builtin `int`. To silence this warning, use `int` by itself. Doing this will not modify any behavior and is safe. When replacing `np.int`, you may wish to use e.g. `np.int64` or `np.int32` to specify the precision. If you wish to review your current use, check the release note link for additional information.\n",
            "Deprecated in NumPy 1.20; for more details and guidance: https://numpy.org/devdocs/release/1.20.0-notes.html#deprecations\n",
            "  fold_sizes = np.full(n_splits, n_samples // n_splits, dtype=np.int)\n",
            "/usr/local/lib/python3.7/dist-packages/sklearn/model_selection/_split.py:93: DeprecationWarning: `np.bool` is a deprecated alias for the builtin `bool`. To silence this warning, use `bool` by itself. Doing this will not modify any behavior and is safe. If you specifically wanted the numpy scalar type, use `np.bool_` here.\n",
            "Deprecated in NumPy 1.20; for more details and guidance: https://numpy.org/devdocs/release/1.20.0-notes.html#deprecations\n",
            "  test_mask = np.zeros(_num_samples(X), dtype=np.bool)\n",
            "/usr/local/lib/python3.7/dist-packages/sklearn/model_selection/_split.py:93: DeprecationWarning: `np.bool` is a deprecated alias for the builtin `bool`. To silence this warning, use `bool` by itself. Doing this will not modify any behavior and is safe. If you specifically wanted the numpy scalar type, use `np.bool_` here.\n",
            "Deprecated in NumPy 1.20; for more details and guidance: https://numpy.org/devdocs/release/1.20.0-notes.html#deprecations\n",
            "  test_mask = np.zeros(_num_samples(X), dtype=np.bool)\n",
            "/usr/local/lib/python3.7/dist-packages/sklearn/model_selection/_split.py:93: DeprecationWarning: `np.bool` is a deprecated alias for the builtin `bool`. To silence this warning, use `bool` by itself. Doing this will not modify any behavior and is safe. If you specifically wanted the numpy scalar type, use `np.bool_` here.\n",
            "Deprecated in NumPy 1.20; for more details and guidance: https://numpy.org/devdocs/release/1.20.0-notes.html#deprecations\n",
            "  test_mask = np.zeros(_num_samples(X), dtype=np.bool)\n",
            "/usr/local/lib/python3.7/dist-packages/sklearn/model_selection/_search.py:818: DeprecationWarning: `np.int` is a deprecated alias for the builtin `int`. To silence this warning, use `int` by itself. Doing this will not modify any behavior and is safe. When replacing `np.int`, you may wish to use e.g. `np.int64` or `np.int32` to specify the precision. If you wish to review your current use, check the release note link for additional information.\n",
            "Deprecated in NumPy 1.20; for more details and guidance: https://numpy.org/devdocs/release/1.20.0-notes.html#deprecations\n",
            "  dtype=np.int)\n"
          ]
        },
        {
          "output_type": "stream",
          "name": "stdout",
          "text": [
            "Best LDA model's params {'n_components': 6}\n",
            "Best log likelihood Score for the LDA model -255134.8111934452\n",
            "LDA model Perplexity on train data 2555.950221105523\n"
          ]
        }
      ]
    },
    {
      "cell_type": "code",
      "metadata": {
        "colab": {
          "base_uri": "https://localhost:8080/"
        },
        "id": "lSO2Li-SFN_t",
        "outputId": "f66882fd-1aad-4276-8e9e-8e364617b7df"
      },
      "source": [
        "!pip install pyLDAvis"
      ],
      "execution_count": 146,
      "outputs": [
        {
          "output_type": "stream",
          "name": "stdout",
          "text": [
            "Requirement already satisfied: pyLDAvis in /usr/local/lib/python3.7/dist-packages (3.3.1)\n",
            "Requirement already satisfied: jinja2 in /usr/local/lib/python3.7/dist-packages (from pyLDAvis) (2.11.3)\n",
            "Requirement already satisfied: scikit-learn in /usr/local/lib/python3.7/dist-packages (from pyLDAvis) (0.22.2.post1)\n",
            "Requirement already satisfied: setuptools in /usr/local/lib/python3.7/dist-packages (from pyLDAvis) (57.4.0)\n",
            "Requirement already satisfied: funcy in /usr/local/lib/python3.7/dist-packages (from pyLDAvis) (1.16)\n",
            "Requirement already satisfied: pandas>=1.2.0 in /usr/local/lib/python3.7/dist-packages (from pyLDAvis) (1.3.3)\n",
            "Requirement already satisfied: numpy>=1.20.0 in /usr/local/lib/python3.7/dist-packages (from pyLDAvis) (1.21.2)\n",
            "Requirement already satisfied: future in /usr/local/lib/python3.7/dist-packages (from pyLDAvis) (0.16.0)\n",
            "Requirement already satisfied: gensim in /usr/local/lib/python3.7/dist-packages (from pyLDAvis) (3.6.0)\n",
            "Requirement already satisfied: numexpr in /usr/local/lib/python3.7/dist-packages (from pyLDAvis) (2.7.3)\n",
            "Requirement already satisfied: joblib in /usr/local/lib/python3.7/dist-packages (from pyLDAvis) (1.0.1)\n",
            "Requirement already satisfied: sklearn in /usr/local/lib/python3.7/dist-packages (from pyLDAvis) (0.0)\n",
            "Requirement already satisfied: scipy in /usr/local/lib/python3.7/dist-packages (from pyLDAvis) (1.4.1)\n",
            "Requirement already satisfied: python-dateutil>=2.7.3 in /usr/local/lib/python3.7/dist-packages (from pandas>=1.2.0->pyLDAvis) (2.8.2)\n",
            "Requirement already satisfied: pytz>=2017.3 in /usr/local/lib/python3.7/dist-packages (from pandas>=1.2.0->pyLDAvis) (2018.9)\n",
            "Requirement already satisfied: six>=1.5 in /usr/local/lib/python3.7/dist-packages (from python-dateutil>=2.7.3->pandas>=1.2.0->pyLDAvis) (1.15.0)\n",
            "Requirement already satisfied: smart-open>=1.2.1 in /usr/local/lib/python3.7/dist-packages (from gensim->pyLDAvis) (5.2.1)\n",
            "Requirement already satisfied: MarkupSafe>=0.23 in /usr/local/lib/python3.7/dist-packages (from jinja2->pyLDAvis) (2.0.1)\n"
          ]
        }
      ]
    },
    {
      "cell_type": "code",
      "metadata": {
        "id": "9_u4ueQVFOrw"
      },
      "source": [
        "import pyLDAvis.sklearn\n",
        "\n",
        "pyLDAvis.enable_notebook()"
      ],
      "execution_count": 147,
      "outputs": []
    },
    {
      "cell_type": "code",
      "metadata": {
        "id": "hu6DA6zkF_jN"
      },
      "source": [
        "from sklearn.decomposition import TruncatedSVD\n",
        "from sklearn.decomposition import LatentDirichletAllocation\n",
        "from sklearn.manifold import TSNE\n"
      ],
      "execution_count": 148,
      "outputs": []
    },
    {
      "cell_type": "code",
      "metadata": {
        "colab": {
          "base_uri": "https://localhost:8080/",
          "height": 1000
        },
        "id": "GuGrcq8HFOvL",
        "outputId": "7e24ac4e-e95d-4dcf-d7d4-d19b0c6804b2"
      },
      "source": [
        "#visualizing the clusters\n",
        "lda_panel = pyLDAvis.sklearn.prepare(best_lda_model,document_term_matrix,description_count_vectorizer,mds='tsne')\n",
        "lda_panel"
      ],
      "execution_count": 149,
      "outputs": [
        {
          "output_type": "stream",
          "name": "stderr",
          "text": [
            "/usr/local/lib/python3.7/dist-packages/pyLDAvis/_prepare.py:247: FutureWarning: In a future version of pandas all arguments of DataFrame.drop except for the argument 'labels' will be keyword-only\n",
            "  by='saliency', ascending=False).head(R).drop('saliency', 1)\n",
            "/usr/local/lib/python3.7/dist-packages/pyLDAvis/_prepare.py:302: SettingWithCopyWarning: \n",
            "A value is trying to be set on a copy of a slice from a DataFrame.\n",
            "Try using .loc[row_indexer,col_indexer] = value instead\n",
            "\n",
            "See the caveats in the documentation: https://pandas.pydata.org/pandas-docs/stable/user_guide/indexing.html#returning-a-view-versus-a-copy\n",
            "  token_table['Freq'] = token_table['Freq'].round()\n",
            "/usr/local/lib/python3.7/dist-packages/pyLDAvis/_prepare.py:303: SettingWithCopyWarning: \n",
            "A value is trying to be set on a copy of a slice from a DataFrame.\n",
            "Try using .loc[row_indexer,col_indexer] = value instead\n",
            "\n",
            "See the caveats in the documentation: https://pandas.pydata.org/pandas-docs/stable/user_guide/indexing.html#returning-a-view-versus-a-copy\n",
            "  token_table['Term'] = vocab[token_table.index.values].values\n",
            "/usr/local/lib/python3.7/dist-packages/pyLDAvis/_prepare.py:305: SettingWithCopyWarning: \n",
            "A value is trying to be set on a copy of a slice from a DataFrame.\n",
            "Try using .loc[row_indexer,col_indexer] = value instead\n",
            "\n",
            "See the caveats in the documentation: https://pandas.pydata.org/pandas-docs/stable/user_guide/indexing.html#returning-a-view-versus-a-copy\n",
            "  token_table['Freq'] = token_table.Freq / term_frequency[token_table.index]\n",
            "/usr/local/lib/python3.7/dist-packages/sklearn/metrics/pairwise.py:56: DeprecationWarning: `np.float` is a deprecated alias for the builtin `float`. To silence this warning, use `float` by itself. Doing this will not modify any behavior and is safe. If you specifically wanted the numpy scalar type, use `np.float64` here.\n",
            "Deprecated in NumPy 1.20; for more details and guidance: https://numpy.org/devdocs/release/1.20.0-notes.html#deprecations\n",
            "  dtype = np.float\n",
            "/usr/local/lib/python3.7/dist-packages/sklearn/manifold/_t_sne.py:348: DeprecationWarning: `np.float` is a deprecated alias for the builtin `float`. To silence this warning, use `float` by itself. Doing this will not modify any behavior and is safe. If you specifically wanted the numpy scalar type, use `np.float64` here.\n",
            "Deprecated in NumPy 1.20; for more details and guidance: https://numpy.org/devdocs/release/1.20.0-notes.html#deprecations\n",
            "  error = np.finfo(np.float).max\n",
            "/usr/local/lib/python3.7/dist-packages/sklearn/manifold/_t_sne.py:349: DeprecationWarning: `np.float` is a deprecated alias for the builtin `float`. To silence this warning, use `float` by itself. Doing this will not modify any behavior and is safe. If you specifically wanted the numpy scalar type, use `np.float64` here.\n",
            "Deprecated in NumPy 1.20; for more details and guidance: https://numpy.org/devdocs/release/1.20.0-notes.html#deprecations\n",
            "  best_error = np.finfo(np.float).max\n",
            "/usr/local/lib/python3.7/dist-packages/sklearn/manifold/_t_sne.py:348: DeprecationWarning: `np.float` is a deprecated alias for the builtin `float`. To silence this warning, use `float` by itself. Doing this will not modify any behavior and is safe. If you specifically wanted the numpy scalar type, use `np.float64` here.\n",
            "Deprecated in NumPy 1.20; for more details and guidance: https://numpy.org/devdocs/release/1.20.0-notes.html#deprecations\n",
            "  error = np.finfo(np.float).max\n",
            "/usr/local/lib/python3.7/dist-packages/sklearn/manifold/_t_sne.py:349: DeprecationWarning: `np.float` is a deprecated alias for the builtin `float`. To silence this warning, use `float` by itself. Doing this will not modify any behavior and is safe. If you specifically wanted the numpy scalar type, use `np.float64` here.\n",
            "Deprecated in NumPy 1.20; for more details and guidance: https://numpy.org/devdocs/release/1.20.0-notes.html#deprecations\n",
            "  best_error = np.finfo(np.float).max\n"
          ]
        },
        {
          "output_type": "execute_result",
          "data": {
            "text/html": [
              "\n",
              "<link rel=\"stylesheet\" type=\"text/css\" href=\"https://cdn.jsdelivr.net/gh/bmabey/pyLDAvis@3.3.1/pyLDAvis/js/ldavis.v1.0.0.css\">\n",
              "\n",
              "\n",
              "<div id=\"ldavis_el4811403411853877285881792143\"></div>\n",
              "<script type=\"text/javascript\">\n",
              "\n",
              "var ldavis_el4811403411853877285881792143_data = {\"mdsDat\": {\"x\": [1.4650187492370605, 54.85479736328125, 32.212928771972656, 5.111096382141113, 26.350170135498047, 38.10981750488281], \"y\": [-47.625064849853516, -36.4767951965332, -61.44457244873047, -14.110331535339355, -33.37470245361328, -7.222781181335449], \"topics\": [1, 2, 3, 4, 5, 6], \"cluster\": [1, 1, 1, 1, 1, 1], \"Freq\": [17.647613835298472, 17.269899542888247, 17.182690802820375, 17.09124416235987, 15.500476586267773, 15.308075070365264]}, \"tinfo\": {\"Term\": [\"young\", \"school\", \"famili\", \"woman\", \"stori\", \"man\", \"world\", \"high\", \"fall\", \"love\", \"life\", \"documentari\", \"new\", \"friend\", \"son\", \"true\", \"live\", \"help\", \"special\", \"star\", \"explor\", \"mother\", \"seri\", \"coupl\", \"power\", \"war\", \"tri\", \"citi\", \"becom\", \"team\", \"anim\", \"captur\", \"player\", \"ii\", \"movi\", \"competit\", \"origin\", \"stage\", \"terrorist\", \"fan\", \"soldier\", \"soccer\", \"star\", \"war\", \"member\", \"director\", \"color\", \"america\", \"african\", \"fighter\", \"special\", \"chines\", \"style\", \"planet\", \"greatest\", \"funni\", \"championship\", \"leagu\", \"product\", \"bomb\", \"humor\", \"icon\", \"perform\", \"film\", \"standup\", \"crew\", \"offer\", \"music\", \"world\", \"talent\", \"nation\", \"comedi\", \"team\", \"seri\", \"featur\", \"comic\", \"look\", \"documentari\", \"host\", \"rise\", \"face\", \"histori\", \"comedian\", \"follow\", \"detect\", \"evil\", \"monster\", \"use\", \"killer\", \"small\", \"ranger\", \"polic\", \"solv\", \"supernatur\", \"town\", \"armi\", \"villain\", \"bank\", \"serial\", \"abil\", \"farm\", \"disappear\", \"warrior\", \"inherit\", \"super\", \"miss\", \"assassin\", \"citi\", \"ring\", \"bheem\", \"control\", \"hide\", \"investig\", \"unearth\", \"attack\", \"power\", \"case\", \"track\", \"battl\", \"search\", \"help\", \"forc\", \"cop\", \"fight\", \"join\", \"save\", \"murder\", \"crime\", \"new\", \"teenag\", \"return\", \"work\", \"corrupt\", \"mysteri\", \"team\", \"home\", \"secret\", \"coupl\", \"marriag\", \"troubl\", \"worker\", \"run\", \"divorc\", \"suicid\", \"unlik\", \"reconnect\", \"boyfriend\", \"north\", \"entangl\", \"bachelor\", \"arrang\", \"resort\", \"dancer\", \"grappl\", \"hope\", \"dump\", \"bride\", \"hong\", \"busi\", \"entrepreneur\", \"kong\", \"hot\", \"intellig\", \"choos\", \"graduat\", \"bond\", \"unexpect\", \"away\", \"confront\", \"realiz\", \"famili\", \"stranger\", \"aspir\", \"sister\", \"secret\", \"women\", \"young\", \"determin\", \"discov\", \"form\", \"come\", \"navig\", \"scientist\", \"past\", \"threaten\", \"life\", \"home\", \"job\", \"surviv\", \"make\", \"man\", \"live\", \"turn\", \"meet\", \"brother\", \"begin\", \"student\", \"work\", \"woman\", \"new\", \"love\", \"fall\", \"son\", \"soon\", \"driver\", \"car\", \"kill\", \"haunt\", \"accid\", \"hunt\", \"cross\", \"poor\", \"innoc\", \"treasur\", \"path\", \"devot\", \"sell\", \"believ\", \"doesnt\", \"ghost\", \"mobster\", \"griev\", \"stolen\", \"vision\", \"partner\", \"lose\", \"businessman\", \"mother\", \"care\", \"millionair\", \"frame\", \"reveng\", \"woman\", \"marri\", \"local\", \"die\", \"man\", \"kidnap\", \"husband\", \"quest\", \"prove\", \"daughter\", \"becom\", \"father\", \"leav\", \"seek\", \"young\", \"rescu\", \"love\", \"set\", \"wife\", \"gang\", \"death\", \"friend\", \"mysteri\", \"old\", \"tri\", \"murder\", \"help\", \"base\", \"stori\", \"true\", \"interview\", \"childhood\", \"scienc\", \"question\", \"later\", \"impact\", \"earli\", \"bollywood\", \"educ\", \"convict\", \"tell\", \"legaci\", \"radio\", \"sound\", \"modernday\", \"intrigu\", \"examin\", \"psycholog\", \"30\", \"spiritu\", \"50\", \"archiv\", \"independ\", \"diseas\", \"decad\", \"explor\", \"apart\", \"polit\", \"dramat\", \"book\", \"event\", \"tale\", \"passion\", \"year\", \"documentari\", \"band\", \"singer\", \"life\", \"person\", \"drama\", \"love\", \"journey\", \"cultur\", \"follow\", \"struggl\", \"live\", \"famili\", \"share\", \"reveal\", \"seri\", \"chanc\", \"friend\", \"meet\", \"chang\", \"school\", \"high\", \"crisi\", \"bad\", \"cat\", \"cope\", \"addict\", \"ordinari\", \"camp\", \"lifestyl\", \"middl\", \"countri\", \"schooler\", \"ocean\", \"senior\", \"quirki\", \"curious\", \"summer\", \"outrag\", \"everyday\", \"fate\", \"mous\", \"forest\", \"onlin\", \"app\", \"differ\", \"valuabl\", \"read\", \"gun\", \"demand\", \"pal\", \"deliv\", \"misfit\", \"adventur\", \"attend\", \"build\", \"night\", \"want\", \"girl\", \"friend\", \"tri\", \"teen\", \"thing\", \"make\", \"new\", \"togeth\", \"fun\", \"date\", \"student\", \"live\", \"decid\", \"career\", \"hes\", \"day\", \"best\", \"learn\", \"life\", \"world\", \"boy\", \"colleg\", \"group\", \"turn\", \"relationship\", \"comedian\"], \"Freq\": [579.0, 272.0, 549.0, 385.0, 265.0, 420.0, 441.0, 195.0, 209.0, 463.0, 627.0, 289.0, 538.0, 498.0, 180.0, 160.0, 408.0, 296.0, 175.0, 168.0, 168.0, 174.0, 316.0, 135.0, 205.0, 155.0, 264.0, 168.0, 320.0, 210.0, 117.02630833088777, 64.46298352542549, 56.00485999719742, 41.318916299150175, 37.41184586640883, 72.92770874096335, 36.473852463865654, 75.94264491084395, 49.19334152878319, 28.191022232801068, 39.4103260334969, 45.8315014158932, 154.4539936447939, 142.8973485805109, 61.430810222149354, 49.905464103332214, 32.33013332047265, 54.230376052195766, 25.10218809249396, 31.18398334048725, 156.09886353589667, 21.808515891214615, 20.240677582305647, 43.518656955039326, 19.2948306134888, 26.185051962830084, 16.937775607753117, 19.223917172720157, 20.69414826780515, 18.217247441405675, 34.040170236875184, 51.09774823724948, 64.41359132267841, 130.51117906586694, 105.23827377333575, 66.91987071043424, 50.24717945146274, 104.83393491785594, 294.7134373936494, 55.54528043725513, 47.304532624623754, 101.2157174056507, 133.1251161937054, 175.10617382805953, 52.21373438545775, 71.71141675987148, 75.93516149176497, 112.40563406924473, 56.495705598113986, 54.50171715494509, 64.13132135330454, 53.844496639853446, 52.74615136208045, 52.49092373937431, 99.69812333365566, 103.65000351335834, 52.2838427948646, 118.74596488041269, 84.23578347980803, 64.1069254331696, 34.85167274069678, 111.83402354874848, 61.65758948743581, 40.21870730423772, 131.87756512738147, 45.57325415041468, 25.052851627028215, 34.67952035074653, 35.48321208610263, 24.410379526217167, 23.597513750805696, 42.41568306945542, 24.820877533037784, 20.88361523755705, 16.96500087122455, 56.9836441530959, 33.78832157836713, 145.97128083975608, 26.069598747257984, 15.284865036197571, 44.16052885241253, 28.105157730598112, 129.63696110531168, 15.672804178409846, 50.01158006436273, 164.55438327450096, 66.25709142569976, 48.82362072884603, 112.77944182399102, 93.35176009515224, 192.8882272123456, 141.25522576981896, 87.17196511943803, 113.15623167501907, 88.06594923756084, 117.78673409071547, 127.08622357673208, 96.89169175208603, 203.9049717221542, 76.00226277651618, 91.634105448933, 76.561462729183, 53.29561448224405, 76.4889112865363, 72.21072510895353, 72.84361767241165, 68.91442536215551, 132.23299966987727, 105.98969419638819, 85.00094687206881, 35.96032854860043, 108.6932679882658, 33.296170741273436, 32.44685114963904, 46.17768499098362, 28.920787804392326, 40.16684972544282, 27.055941062566788, 29.378895130990674, 24.605690175956774, 23.00528652148179, 22.139551442694653, 29.864241130300805, 23.348203586926164, 85.042998430965, 16.85823613706759, 18.33170010192995, 21.329811665102984, 76.09637166865755, 22.049337013947497, 22.00564012738307, 25.035958302383616, 22.6945195979252, 21.89274091659807, 17.287985411922666, 75.00855253782858, 67.85405073598015, 46.74261463884091, 38.45711264721606, 42.22345703317205, 341.89141057461944, 49.64959006978416, 50.30462317099611, 78.70913801856705, 138.30556788748854, 95.93328597358048, 298.762337405728, 60.12433201691737, 103.08594824794453, 55.14430139654888, 92.39287226271158, 61.49414200186836, 39.655233703917474, 80.14452835196624, 53.18670783128666, 153.44597221403387, 92.69177008302809, 56.274767920578675, 55.377163177446256, 77.87331155227227, 98.08193736015625, 96.73971795542147, 77.74654434914558, 70.73899699294009, 65.48989083326764, 62.57561343877354, 65.08908214370155, 61.96014123033489, 64.27745274492132, 62.81310161093686, 61.894823335802876, 205.61886548272955, 176.5393351877709, 108.06476564714151, 43.44237272790043, 56.77152477024827, 91.64701434505385, 57.279693823087364, 53.18447874819789, 58.665169894945514, 39.99304060801798, 23.914193001496642, 23.03937967927251, 23.03630402200405, 70.65507800155372, 21.386285433864956, 22.09277535343011, 25.985512613676082, 19.633480283362214, 40.72492036252495, 19.546507404126622, 18.623767334636252, 22.407513393165672, 16.968276923462312, 48.54386695827914, 63.13239154038067, 31.45252822293053, 150.93229798791714, 40.54688142668353, 16.757786371989916, 21.238294960350697, 63.044747384148735, 312.65084451618, 104.525997751726, 67.22827137323173, 51.001691532531595, 309.9120852031085, 60.56869787092726, 85.5791216311432, 54.62458275485252, 47.786465790294834, 122.95162251111918, 203.42029304619746, 166.824034742773, 87.08455450351572, 80.01648632232644, 277.4097470030952, 58.16143223691197, 180.56727677974413, 105.42987133359551, 81.80542303057062, 57.61097275017318, 78.42111068275354, 113.89227779299499, 75.32848444480364, 62.119355656513896, 69.72259904532635, 66.91417956416366, 67.24707562818188, 111.04607353183351, 257.9026906249424, 153.08105721120964, 62.763711750660846, 78.48145238018193, 28.985621610669202, 47.981128866032584, 32.741270719413, 36.69188472617063, 27.767035578989464, 22.034953594421058, 21.081270902338176, 30.41358505412114, 48.34238217459607, 19.467182248366985, 18.55808478433401, 19.27667719667696, 16.779284079993904, 19.03701878371626, 54.197038249582455, 15.813573781245957, 15.033063775603043, 18.003918557826875, 13.420340209210584, 12.61362725347218, 22.921624732057158, 13.882313726347107, 41.77833057656559, 137.2608781544113, 50.15579988166266, 83.18293145498, 30.644625126553816, 32.518953774046935, 73.71612706583265, 61.28500702676706, 41.5456871572025, 156.39231832807474, 175.0980996423817, 56.41432869688215, 38.40062149433751, 303.98494516601664, 85.5799638635001, 70.39547419551445, 210.58984546100274, 76.91919672245571, 62.788078436172654, 101.98961569482367, 93.94823432386558, 144.068906916935, 171.5919331418665, 64.80119467229474, 50.94165294518314, 94.73181028482813, 49.002975247526756, 87.94705578329372, 58.21583714082367, 51.704706231819536, 268.64046607119667, 191.77726114804807, 38.70936751462536, 37.66629894120715, 32.260590165753456, 24.25278570214627, 25.65527800735982, 21.62109032095516, 32.71547591620152, 21.450334840472177, 25.411477024955197, 72.142088726731, 19.5915470271441, 18.701994521542304, 18.525409879924066, 23.781766076959908, 16.83936543258244, 34.30573072543266, 14.450849633128549, 18.100292815984357, 46.632096632717605, 12.781742652010402, 20.961556655800372, 30.651087200968426, 14.172733497596747, 98.99219793915505, 12.646377338545722, 13.369024675399169, 12.528627885993004, 17.652809322529116, 63.86396177103037, 35.39850534076392, 23.099916913622913, 123.17447286270048, 26.45004181183706, 43.106465925999494, 63.40394042021229, 47.7995515012348, 136.56566706137093, 249.35097350505623, 145.3339264280283, 117.29172070779228, 51.401198436481955, 121.85405870340507, 229.5668487486211, 69.76574027616367, 45.48479941658154, 40.98246428749926, 93.27342891183427, 149.78545217001732, 49.19325603412352, 60.96742071947488, 63.514550678339624, 62.103538463597104, 59.974498982783985, 69.56568293487672, 106.63297534334609, 86.57261276787172, 59.995525267943115, 51.25708475474798, 59.940201797875005, 57.9315607278353, 52.75013768227805, 51.20115607829845], \"Total\": [579.0, 272.0, 549.0, 385.0, 265.0, 420.0, 441.0, 195.0, 209.0, 463.0, 627.0, 289.0, 538.0, 498.0, 180.0, 160.0, 408.0, 296.0, 175.0, 168.0, 168.0, 174.0, 316.0, 135.0, 205.0, 155.0, 264.0, 168.0, 320.0, 210.0, 120.83068406861581, 67.4268743223962, 58.670984603412926, 43.78996465421859, 40.29476342564791, 78.81087821388404, 39.41863359542658, 82.33992511072606, 53.436420294396854, 30.661307063647012, 42.92554895290673, 49.92009124318959, 168.33718585528965, 155.92876686106044, 67.4536088179095, 55.194282349182906, 35.930088355524255, 60.44134480594038, 28.041120676893765, 35.052507360118064, 175.48267771296926, 24.536469610328858, 22.78772683433813, 49.06347308846726, 21.909794109072937, 29.797984194484133, 19.2822780256359, 21.914380119312323, 23.660057740353064, 21.036479103357564, 39.48498841689742, 59.595075938162694, 78.18936774419801, 164.85881440359242, 131.89362299461925, 81.55213541130142, 60.45865556333135, 137.06276906578069, 441.19472725670215, 68.36867146446023, 57.86487306828599, 147.18868509436876, 210.9187257729702, 316.472928575808, 65.76420021977617, 106.55518933169263, 127.9877531481612, 289.44127378735107, 84.35201947563378, 89.5789167572524, 179.82866531695987, 109.98322307495015, 126.57545439361861, 214.87894386998389, 102.60419795836435, 107.89868254095407, 54.8397456458808, 124.70313800226012, 89.32234842743652, 68.10704372732246, 37.14743983646575, 119.39025197340152, 66.35379814899254, 43.33420434391433, 142.40316973188254, 49.51557613714234, 27.417034154308617, 38.02360877907461, 38.913961301394146, 27.41498252514002, 26.531574897943532, 47.752567983683484, 28.299089667439265, 23.8805253835429, 19.455918145281732, 65.41905444421295, 38.91191908694598, 168.20448421182292, 30.064400870860652, 17.686738725644794, 51.31219504199118, 32.728143176408565, 152.09737179094208, 18.568119839065595, 60.077823397084565, 205.9000599192787, 80.46809470294792, 60.07805906895902, 150.01023228453823, 127.19304466847186, 296.86505093264265, 217.9301810279812, 125.58445614190646, 177.25097243857672, 131.70183718523305, 194.14631193426607, 229.8980066599032, 159.8363545740288, 538.3820880171356, 125.46941637773284, 179.25709117548442, 187.87486662746232, 75.94497013958497, 213.75966030923954, 210.9187257729702, 247.07431520376736, 220.79708530012985, 135.05517015273787, 108.75071570303015, 87.70655443222732, 38.60308684134271, 116.75289019226838, 35.97373441015389, 35.09642575510093, 50.01460871002967, 31.59043607467591, 43.87521720932279, 29.833476940024795, 32.46945758505219, 27.20517519768328, 25.449918771151424, 24.572990941409206, 33.34195082413469, 26.33594563059023, 96.55013084221237, 19.312224148271913, 21.070222706011172, 24.57183513175956, 87.78705454868769, 25.456109539582194, 25.448479200014074, 28.968826247025177, 26.340426341032146, 25.45947945524765, 20.198818479944705, 87.78652544202045, 79.96086394744174, 57.11137883114588, 46.541195258317224, 51.820661303503755, 549.5994029959154, 63.24479325842475, 64.9845613987731, 112.52371884376589, 220.79708530012985, 145.6677170056956, 579.3849668422232, 83.3611490578336, 165.37327275196213, 78.16705911157156, 158.31461061972772, 90.79415785562341, 51.744424804067464, 160.4279555219101, 86.35781787960538, 627.0646768957123, 247.07431520376736, 97.82349812312779, 96.66502862666323, 226.28631365830847, 420.2690070776744, 408.5543068092073, 232.68067289319444, 189.66053843726905, 167.84055391852786, 159.65725296994964, 200.5829757946203, 187.87486662746232, 385.95918144959523, 538.3820880171356, 463.4911263158535, 209.62747894151892, 180.43488700950581, 114.07872573973383, 45.9898246947784, 60.13659386469467, 98.1726792095715, 61.893845781385586, 57.47344742108063, 64.56543850400726, 44.24145696343631, 26.53113122118529, 25.648466776556, 25.64799561563129, 78.69957493944241, 23.878456604380602, 24.763086223277895, 29.18661569488858, 22.10864713419232, 45.98973949948505, 22.10817355096467, 21.22460494601274, 25.648294384845617, 19.454601176471375, 55.725763140128585, 72.48498068663247, 36.271280646231524, 174.09653348567008, 46.84298249373819, 19.457109674154005, 24.75799903219198, 74.28627965652012, 385.95918144959523, 126.34939105164598, 81.25369143188621, 60.99635073333439, 420.2690070776744, 75.17790828652846, 111.25504427246399, 68.95811834213657, 59.24147768920582, 176.76034894112965, 320.7561779947186, 255.49946412931814, 120.589069632215, 113.20179032206796, 579.3849668422232, 79.43029921041229, 463.4911263158535, 213.704240787543, 151.77602282692405, 80.48051565167849, 168.88037658535762, 498.1121600312906, 213.75966030923954, 109.84711179722389, 264.2734056492884, 229.8980066599032, 296.86505093264265, 113.85872771771756, 265.6310295653379, 160.60060395918902, 66.18934131320444, 83.87317710526366, 31.778954633890482, 52.96511900088359, 36.19162194195763, 40.591385978721796, 30.88899763799151, 24.713544595023624, 23.83201756072615, 34.4275388980155, 54.732605416026345, 22.06646000639569, 21.18644806312339, 22.068305944522596, 19.419274728915017, 22.067969540944972, 63.505064025257084, 18.53808575265501, 17.656538167092645, 21.181707696045876, 15.888587122535926, 15.0058692827579, 27.361690734608015, 16.771909113124135, 51.14017589682206, 168.34603426254938, 61.7714869923001, 109.65619850214888, 38.82868118068614, 41.471792969121154, 101.3548411041074, 84.71577213500595, 54.834290109301165, 248.00980680450178, 289.44127378735107, 78.40579287598537, 50.30607966120162, 627.0646768957123, 136.53749787210597, 111.0079134171275, 463.4911263158535, 129.5481489351998, 105.59955625109612, 214.87894386998389, 197.6990511670164, 408.5543068092073, 549.5994029959154, 121.3778234893863, 80.97741835086723, 316.472928575808, 76.78332294323826, 498.1121600312906, 189.66053843726905, 118.95043286437502, 272.53190770896, 195.42313808947335, 41.20424342143758, 40.30379372791996, 34.92460052270937, 26.85479207639716, 28.63958683747047, 24.16564352414992, 36.6861203249317, 24.162688554246287, 28.632286134622134, 81.4381728915319, 22.369002966098982, 21.47092696362397, 21.466026617888563, 27.728418231550165, 19.67708393441137, 40.25143813157787, 16.990773458785927, 21.46258720817338, 55.41957801172103, 15.200751980434518, 25.03977061353703, 36.665872434340486, 16.985539190499544, 118.93671206172269, 15.198171242572773, 16.091766186570464, 15.19561398937513, 21.456635172278027, 77.79041436529026, 44.63094108348614, 28.597620690356205, 166.9112791121837, 33.04079867540257, 57.10232745677545, 87.49404022695902, 66.01447141422227, 225.28386063136003, 498.1121600312906, 264.2734056492884, 211.9431445475828, 75.70067111305735, 226.28631365830847, 538.3820880171356, 116.53996159522194, 66.75099187751727, 58.792265428775806, 200.5829757946203, 408.5543068092073, 81.12446670296916, 117.99399553419025, 128.12028159575286, 133.44798752506597, 135.81631113395406, 200.4425255912685, 627.0646768957123, 441.19472725670215, 172.7607115835213, 107.45179610237504, 210.3877874095382, 232.68067289319444, 139.08023927471297, 126.57545439361861], \"Category\": [\"Default\", \"Default\", \"Default\", \"Default\", \"Default\", \"Default\", \"Default\", \"Default\", \"Default\", \"Default\", \"Default\", \"Default\", \"Default\", \"Default\", \"Default\", \"Default\", \"Default\", \"Default\", \"Default\", \"Default\", \"Default\", \"Default\", \"Default\", \"Default\", \"Default\", \"Default\", \"Default\", \"Default\", \"Default\", \"Default\", \"Topic1\", \"Topic1\", \"Topic1\", \"Topic1\", \"Topic1\", \"Topic1\", \"Topic1\", \"Topic1\", \"Topic1\", \"Topic1\", \"Topic1\", \"Topic1\", \"Topic1\", \"Topic1\", \"Topic1\", \"Topic1\", \"Topic1\", \"Topic1\", \"Topic1\", \"Topic1\", \"Topic1\", \"Topic1\", \"Topic1\", \"Topic1\", \"Topic1\", \"Topic1\", \"Topic1\", \"Topic1\", \"Topic1\", \"Topic1\", \"Topic1\", \"Topic1\", \"Topic1\", \"Topic1\", \"Topic1\", \"Topic1\", \"Topic1\", \"Topic1\", \"Topic1\", \"Topic1\", \"Topic1\", \"Topic1\", \"Topic1\", \"Topic1\", \"Topic1\", \"Topic1\", \"Topic1\", \"Topic1\", \"Topic1\", \"Topic1\", \"Topic1\", \"Topic1\", \"Topic1\", \"Topic1\", \"Topic2\", \"Topic2\", \"Topic2\", \"Topic2\", \"Topic2\", \"Topic2\", \"Topic2\", \"Topic2\", \"Topic2\", \"Topic2\", \"Topic2\", \"Topic2\", \"Topic2\", \"Topic2\", \"Topic2\", \"Topic2\", \"Topic2\", \"Topic2\", \"Topic2\", \"Topic2\", \"Topic2\", \"Topic2\", \"Topic2\", \"Topic2\", \"Topic2\", \"Topic2\", \"Topic2\", \"Topic2\", \"Topic2\", \"Topic2\", \"Topic2\", \"Topic2\", \"Topic2\", \"Topic2\", \"Topic2\", \"Topic2\", \"Topic2\", \"Topic2\", \"Topic2\", \"Topic2\", \"Topic2\", \"Topic2\", \"Topic2\", \"Topic2\", \"Topic2\", \"Topic2\", \"Topic2\", \"Topic2\", \"Topic2\", \"Topic2\", \"Topic2\", \"Topic2\", \"Topic2\", \"Topic3\", \"Topic3\", \"Topic3\", \"Topic3\", \"Topic3\", \"Topic3\", \"Topic3\", \"Topic3\", \"Topic3\", \"Topic3\", \"Topic3\", \"Topic3\", \"Topic3\", \"Topic3\", \"Topic3\", \"Topic3\", \"Topic3\", \"Topic3\", \"Topic3\", \"Topic3\", \"Topic3\", \"Topic3\", \"Topic3\", \"Topic3\", \"Topic3\", \"Topic3\", \"Topic3\", \"Topic3\", \"Topic3\", \"Topic3\", \"Topic3\", \"Topic3\", \"Topic3\", \"Topic3\", \"Topic3\", \"Topic3\", \"Topic3\", \"Topic3\", \"Topic3\", \"Topic3\", \"Topic3\", \"Topic3\", \"Topic3\", \"Topic3\", \"Topic3\", \"Topic3\", \"Topic3\", \"Topic3\", \"Topic3\", \"Topic3\", \"Topic3\", \"Topic3\", \"Topic3\", \"Topic3\", \"Topic3\", \"Topic3\", \"Topic3\", \"Topic3\", \"Topic3\", \"Topic3\", \"Topic3\", \"Topic3\", \"Topic3\", \"Topic3\", \"Topic4\", \"Topic4\", \"Topic4\", \"Topic4\", \"Topic4\", \"Topic4\", \"Topic4\", \"Topic4\", \"Topic4\", \"Topic4\", \"Topic4\", \"Topic4\", \"Topic4\", \"Topic4\", \"Topic4\", \"Topic4\", \"Topic4\", \"Topic4\", \"Topic4\", \"Topic4\", \"Topic4\", \"Topic4\", \"Topic4\", \"Topic4\", \"Topic4\", \"Topic4\", \"Topic4\", \"Topic4\", \"Topic4\", \"Topic4\", \"Topic4\", \"Topic4\", \"Topic4\", \"Topic4\", \"Topic4\", \"Topic4\", \"Topic4\", \"Topic4\", \"Topic4\", \"Topic4\", \"Topic4\", \"Topic4\", \"Topic4\", \"Topic4\", \"Topic4\", \"Topic4\", \"Topic4\", \"Topic4\", \"Topic4\", \"Topic4\", \"Topic4\", \"Topic4\", \"Topic4\", \"Topic4\", \"Topic4\", \"Topic4\", \"Topic4\", \"Topic4\", \"Topic5\", \"Topic5\", \"Topic5\", \"Topic5\", \"Topic5\", \"Topic5\", \"Topic5\", \"Topic5\", \"Topic5\", \"Topic5\", \"Topic5\", \"Topic5\", \"Topic5\", \"Topic5\", \"Topic5\", \"Topic5\", \"Topic5\", \"Topic5\", \"Topic5\", \"Topic5\", \"Topic5\", \"Topic5\", \"Topic5\", \"Topic5\", \"Topic5\", \"Topic5\", \"Topic5\", \"Topic5\", \"Topic5\", \"Topic5\", \"Topic5\", \"Topic5\", \"Topic5\", \"Topic5\", \"Topic5\", \"Topic5\", \"Topic5\", \"Topic5\", \"Topic5\", \"Topic5\", \"Topic5\", \"Topic5\", \"Topic5\", \"Topic5\", \"Topic5\", \"Topic5\", \"Topic5\", \"Topic5\", \"Topic5\", \"Topic5\", \"Topic5\", \"Topic5\", \"Topic5\", \"Topic5\", \"Topic5\", \"Topic5\", \"Topic5\", \"Topic6\", \"Topic6\", \"Topic6\", \"Topic6\", \"Topic6\", \"Topic6\", \"Topic6\", \"Topic6\", \"Topic6\", \"Topic6\", \"Topic6\", \"Topic6\", \"Topic6\", \"Topic6\", \"Topic6\", \"Topic6\", \"Topic6\", \"Topic6\", \"Topic6\", \"Topic6\", \"Topic6\", \"Topic6\", \"Topic6\", \"Topic6\", \"Topic6\", \"Topic6\", \"Topic6\", \"Topic6\", \"Topic6\", \"Topic6\", \"Topic6\", \"Topic6\", \"Topic6\", \"Topic6\", \"Topic6\", \"Topic6\", \"Topic6\", \"Topic6\", \"Topic6\", \"Topic6\", \"Topic6\", \"Topic6\", \"Topic6\", \"Topic6\", \"Topic6\", \"Topic6\", \"Topic6\", \"Topic6\", \"Topic6\", \"Topic6\", \"Topic6\", \"Topic6\", \"Topic6\", \"Topic6\", \"Topic6\", \"Topic6\", \"Topic6\", \"Topic6\", \"Topic6\", \"Topic6\", \"Topic6\", \"Topic6\", \"Topic6\", \"Topic6\"], \"logprob\": [30.0, 29.0, 28.0, 27.0, 26.0, 25.0, 24.0, 23.0, 22.0, 21.0, 20.0, 19.0, 18.0, 17.0, 16.0, 15.0, 14.0, 13.0, 12.0, 11.0, 10.0, 9.0, 8.0, 7.0, 6.0, 5.0, 4.0, 3.0, 2.0, 1.0, -4.9177, -5.514, -5.6546, -5.9587, -6.0581, -5.3906, -6.0835, -5.3501, -5.7843, -6.3411, -6.006, -5.8551, -4.6402, -4.7179, -5.5622, -5.7699, -6.2041, -5.6868, -6.4571, -6.2402, -4.6296, -6.5978, -6.6724, -5.9069, -6.7202, -6.4149, -6.8505, -6.7239, -6.6502, -6.7777, -6.1525, -5.7463, -5.5147, -4.8086, -5.0238, -5.4766, -5.7631, -5.0277, -3.9941, -5.6629, -5.8235, -5.0628, -4.7888, -4.5147, -5.7247, -5.4074, -5.3502, -4.958, -5.6459, -5.6818, -5.5191, -5.694, -5.7146, -5.7194, -5.0563, -5.0174, -5.7017, -4.8814, -5.2248, -5.4979, -6.1073, -4.9414, -5.5368, -5.9641, -4.7766, -5.8391, -6.4374, -6.1123, -6.0894, -6.4634, -6.4973, -5.9109, -6.4467, -6.6195, -6.8273, -5.6157, -6.1383, -4.675, -6.3977, -6.9316, -5.8706, -6.3225, -4.7937, -6.9065, -5.7462, -4.5552, -5.4649, -5.7702, -4.933, -5.1221, -4.3963, -4.7079, -5.1906, -4.9297, -5.1803, -4.8896, -4.8136, -5.0848, -4.3408, -5.3277, -5.1406, -5.3203, -5.6826, -5.3213, -5.3788, -5.3701, -5.4256, -4.7688, -4.99, -5.2107, -6.071, -4.9648, -6.1479, -6.1738, -5.8209, -6.2888, -5.9603, -6.3555, -6.2731, -6.4504, -6.5176, -6.556, -6.2567, -6.5029, -5.2102, -6.8285, -6.7447, -6.5933, -5.3214, -6.5601, -6.5621, -6.4331, -6.5312, -6.5672, -6.8034, -5.3358, -5.436, -5.8087, -6.0038, -5.9104, -3.8189, -5.7484, -5.7353, -5.2876, -4.7239, -5.0897, -3.9537, -5.557, -5.0178, -5.6434, -5.1273, -5.5344, -5.9731, -5.2695, -5.6796, -4.62, -5.1241, -5.6231, -5.6392, -5.2983, -5.0676, -5.0813, -5.2999, -5.3944, -5.4715, -5.517, -5.4776, -5.5269, -5.4902, -5.5132, -5.5279, -4.322, -4.4745, -4.9653, -5.8766, -5.609, -5.1301, -5.6001, -5.6743, -5.5762, -5.9593, -6.4736, -6.5108, -6.511, -5.3902, -6.5853, -6.5528, -6.3905, -6.6708, -5.9412, -6.6752, -6.7236, -6.5386, -6.8167, -5.7656, -5.5028, -6.1996, -4.6312, -5.9456, -6.8292, -6.5922, -5.5042, -3.9029, -4.9986, -5.4399, -5.7162, -3.9117, -5.5443, -5.1986, -5.6476, -5.7813, -4.8362, -4.3328, -4.5311, -5.1812, -5.2658, -4.0225, -5.5848, -4.4519, -4.99, -5.2437, -5.5943, -5.2859, -4.9128, -5.3262, -5.519, -5.4035, -5.4446, -5.4397, -4.8404, -3.9978, -4.5194, -5.411, -5.1875, -6.1835, -5.6795, -6.0617, -5.9478, -6.2265, -6.4577, -6.502, -6.1355, -5.672, -6.5816, -6.6294, -6.5914, -6.7302, -6.604, -5.5577, -6.7895, -6.8401, -6.6598, -6.9536, -7.0156, -6.4183, -6.9197, -5.818, -4.6285, -5.6352, -5.1293, -6.1279, -6.0685, -5.2501, -5.4348, -5.8235, -4.498, -4.385, -5.5176, -5.9023, -3.8334, -5.1009, -5.2962, -4.2004, -5.2076, -5.4106, -4.9255, -5.0076, -4.58, -4.4052, -5.379, -5.6197, -4.9993, -5.6585, -5.0736, -5.4862, -5.6048, -3.9445, -4.2815, -5.8818, -5.9091, -6.064, -6.3493, -6.2931, -6.4642, -6.05, -6.4721, -6.3026, -5.2592, -6.5628, -6.6092, -6.6187, -6.3689, -6.7141, -6.0025, -6.8671, -6.6419, -5.6956, -6.9898, -6.4952, -6.1152, -6.8865, -4.9428, -7.0005, -6.9449, -7.0098, -6.667, -5.3811, -5.9712, -6.398, -4.7242, -6.2626, -5.7742, -5.3883, -5.6708, -4.621, -4.019, -4.5588, -4.7732, -5.5982, -4.735, -4.1017, -5.2927, -5.7205, -5.8247, -5.0023, -4.5286, -5.6421, -5.4275, -5.3866, -5.409, -5.4439, -5.2956, -4.8685, -5.0769, -5.4436, -5.601, -5.4445, -5.4786, -5.5723, -5.6021], \"loglift\": [30.0, 29.0, 28.0, 27.0, 26.0, 25.0, 24.0, 23.0, 22.0, 21.0, 20.0, 19.0, 18.0, 17.0, 16.0, 15.0, 14.0, 13.0, 12.0, 11.0, 10.0, 9.0, 8.0, 7.0, 6.0, 5.0, 4.0, 3.0, 2.0, 1.0, 1.7026, 1.6896, 1.6881, 1.6765, 1.6603, 1.657, 1.6569, 1.6537, 1.6518, 1.6506, 1.6491, 1.6491, 1.6485, 1.6473, 1.641, 1.6338, 1.629, 1.6261, 1.6239, 1.6176, 1.6175, 1.6167, 1.616, 1.6146, 1.6075, 1.6053, 1.6049, 1.6036, 1.6006, 1.5907, 1.5862, 1.5807, 1.5408, 1.5009, 1.5088, 1.5368, 1.5496, 1.4665, 1.3311, 1.5269, 1.5331, 1.3601, 1.2744, 1.1427, 1.5038, 1.3386, 1.2125, 0.7887, 1.3337, 1.2377, 0.7035, 1.0203, 0.8592, 0.3251, 1.7275, 1.716, 1.7085, 1.7073, 1.6976, 1.6957, 1.6924, 1.6908, 1.6828, 1.6816, 1.6794, 1.6732, 1.666, 1.6641, 1.6639, 1.6401, 1.639, 1.6377, 1.6251, 1.6221, 1.6192, 1.6182, 1.615, 1.6144, 1.6136, 1.6103, 1.6061, 1.6039, 1.5964, 1.5867, 1.5728, 1.5321, 1.5619, 1.5488, 1.4709, 1.4469, 1.325, 1.3226, 1.3911, 1.3074, 1.3538, 1.2565, 1.1634, 1.2556, 0.7853, 1.2549, 1.0852, 0.8585, 1.4021, 0.7285, 0.6843, 0.5348, 0.5918, 1.7401, 1.7356, 1.7299, 1.6904, 1.6897, 1.6839, 1.6828, 1.6814, 1.673, 1.673, 1.6635, 1.6612, 1.6608, 1.6603, 1.657, 1.6511, 1.6409, 1.6344, 1.6254, 1.622, 1.6198, 1.6184, 1.6176, 1.6159, 1.6154, 1.6123, 1.6103, 1.6057, 1.604, 1.5971, 1.5609, 1.5705, 1.5565, 1.2866, 1.5192, 1.5052, 1.4039, 1.2935, 1.3436, 1.0989, 1.4345, 1.2886, 1.4124, 1.2227, 1.3716, 1.4952, 1.0673, 1.2766, 0.3536, 0.7809, 1.2083, 1.2042, 0.6945, 0.3062, 0.3207, 0.6651, 0.775, 0.8201, 0.8246, 0.6358, 0.652, -0.0313, -0.3871, -0.2521, 1.7473, 1.7448, 1.7124, 1.7096, 1.709, 1.6978, 1.6891, 1.689, 1.6708, 1.6656, 1.6628, 1.6593, 1.6592, 1.6588, 1.6564, 1.6525, 1.6504, 1.6479, 1.645, 1.6435, 1.6359, 1.6315, 1.6299, 1.6286, 1.6285, 1.6241, 1.6238, 1.6223, 1.6173, 1.6133, 1.6025, 1.556, 1.577, 1.5771, 1.5876, 1.462, 1.5505, 1.5042, 1.5336, 1.5517, 1.4036, 1.3112, 1.3403, 1.4411, 1.4197, 1.0301, 1.4549, 0.8239, 1.0601, 1.1485, 1.4323, 0.9995, 0.291, 0.7236, 1.1966, 0.4341, 0.5324, 0.2817, 1.8393, 1.8348, 1.8163, 1.8112, 1.7979, 1.7723, 1.7655, 1.7641, 1.7633, 1.7577, 1.7496, 1.7417, 1.7403, 1.7401, 1.739, 1.7318, 1.7291, 1.7182, 1.7166, 1.7058, 1.7053, 1.7034, 1.7018, 1.6955, 1.6906, 1.6872, 1.6752, 1.6621, 1.6602, 1.656, 1.588, 1.6276, 1.6211, 1.5459, 1.5405, 1.5868, 1.4032, 1.3617, 1.5351, 1.5942, 1.1402, 1.3972, 1.4088, 1.0754, 1.343, 1.3444, 1.1191, 1.1203, 0.822, 0.7002, 1.2367, 1.4008, 0.6581, 1.4152, 0.1302, 0.6832, 1.0311, 1.8624, 1.858, 1.8143, 1.8091, 1.7974, 1.7749, 1.7667, 1.7655, 1.7622, 1.7577, 1.7575, 1.7556, 1.7442, 1.7387, 1.7295, 1.7233, 1.7211, 1.717, 1.7149, 1.7064, 1.7041, 1.7035, 1.699, 1.6976, 1.6957, 1.6932, 1.693, 1.6914, 1.6838, 1.6817, 1.6795, 1.645, 1.6633, 1.5729, 1.6543, 1.5956, 1.5547, 1.5539, 1.3762, 1.1848, 1.2788, 1.2851, 1.4897, 1.2578, 1.0244, 1.3637, 1.4932, 1.5159, 1.1111, 0.8734, 1.3766, 1.2165, 1.1751, 1.1119, 1.0594, 0.8185, 0.1051, 0.2483, 0.8192, 1.1366, 0.6212, 0.4864, 0.9073, 0.9717]}, \"token.table\": {\"Topic\": [2, 4, 5, 6, 1, 5, 1, 2, 3, 4, 6, 2, 3, 4, 5, 3, 4, 5, 6, 1, 2, 3, 4, 5, 6, 1, 2, 3, 4, 5, 6, 1, 2, 3, 4, 5, 6, 1, 2, 3, 4, 5, 6, 2, 3, 4, 5, 6, 3, 4, 5, 6, 1, 5, 1, 2, 4, 3, 4, 6, 1, 2, 3, 4, 5, 6, 2, 3, 4, 5, 6, 1, 2, 3, 4, 5, 6, 2, 3, 5, 6, 2, 3, 4, 5, 6, 3, 4, 6, 1, 6, 1, 2, 3, 4, 5, 6, 1, 2, 3, 4, 5, 6, 1, 2, 5, 1, 2, 3, 4, 5, 6, 1, 2, 3, 4, 5, 6, 1, 2, 3, 4, 5, 6, 2, 3, 4, 5, 6, 1, 2, 3, 4, 5, 6, 1, 2, 1, 5, 6, 1, 2, 4, 5, 1, 2, 3, 4, 5, 6, 1, 2, 5, 6, 1, 2, 3, 4, 5, 6, 2, 3, 4, 6, 3, 4, 6, 1, 2, 3, 4, 5, 6, 1, 2, 3, 4, 5, 6, 1, 2, 3, 4, 5, 6, 2, 3, 4, 5, 6, 1, 2, 3, 4, 5, 6, 1, 2, 3, 4, 5, 1, 2, 3, 4, 6, 1, 2, 3, 4, 5, 6, 1, 2, 3, 4, 5, 6, 2, 3, 4, 5, 6, 1, 2, 4, 6, 1, 6, 1, 2, 3, 4, 5, 6, 1, 2, 3, 4, 5, 6, 1, 2, 3, 4, 5, 6, 1, 2, 3, 4, 5, 1, 2, 3, 4, 5, 6, 1, 2, 3, 4, 5, 6, 1, 2, 3, 4, 5, 6, 1, 2, 5, 6, 1, 2, 3, 4, 5, 6, 1, 2, 4, 5, 6, 1, 5, 6, 1, 2, 4, 5, 6, 1, 2, 3, 6, 1, 2, 3, 4, 5, 6, 1, 2, 3, 4, 5, 6, 2, 4, 5, 1, 2, 3, 4, 5, 2, 3, 5, 6, 1, 2, 3, 4, 5, 6, 1, 2, 3, 4, 5, 6, 2, 3, 4, 5, 6, 1, 2, 3, 4, 5, 6, 1, 2, 3, 4, 5, 6, 3, 4, 6, 3, 4, 5, 6, 1, 5, 6, 1, 2, 5, 6, 1, 2, 3, 4, 5, 6, 1, 3, 4, 5, 6, 2, 3, 4, 5, 6, 1, 2, 3, 4, 5, 6, 2, 3, 4, 5, 6, 1, 2, 3, 4, 5, 6, 1, 2, 3, 4, 5, 6, 1, 2, 3, 4, 5, 6, 1, 3, 4, 6, 2, 4, 1, 2, 3, 4, 5, 6, 3, 4, 6, 1, 2, 3, 4, 5, 6, 1, 2, 3, 4, 5, 6, 1, 2, 3, 4, 5, 6, 2, 3, 4, 5, 6, 1, 2, 3, 4, 5, 6, 2, 3, 4, 5, 6, 3, 4, 5, 6, 1, 5, 2, 3, 4, 1, 2, 3, 4, 5, 6, 1, 2, 3, 5, 6, 1, 3, 4, 6, 3, 4, 1, 3, 5, 6, 1, 5, 6, 2, 3, 4, 5, 6, 3, 4, 5, 6, 1, 2, 3, 4, 5, 6, 1, 2, 5, 6, 1, 2, 3, 4, 6, 1, 2, 3, 5, 6, 1, 2, 3, 5, 6, 1, 2, 3, 4, 5, 6, 2, 3, 4, 5, 6, 1, 2, 3, 4, 5, 6, 1, 5, 1, 2, 3, 4, 5, 6, 2, 3, 4, 5, 6, 1, 2, 3, 4, 5, 6, 1, 5, 1, 2, 3, 4, 5, 6, 1, 2, 4, 6, 1, 2, 4, 5, 6, 1, 2, 3, 4, 5, 6, 1, 2, 3, 4, 5, 6, 1, 2, 3, 4, 6, 1, 2, 3, 4, 5, 6, 1, 2, 3, 4, 5, 1, 2, 3, 4, 5, 6, 1, 2, 5, 6, 1, 5, 6, 1, 2, 3, 4, 5, 6, 1, 2, 3, 4, 5, 6, 1, 2, 3, 4, 5, 6, 1, 3, 6, 2, 3, 4, 5, 6, 1, 2, 3, 4, 3, 4, 5, 6, 1, 2, 3, 4, 5, 6, 1, 2, 6, 2, 3, 4, 6, 1, 2, 3, 4, 5, 6, 1, 2, 3, 4, 5, 6, 1, 2, 3, 4, 5, 6, 2, 3, 6, 1, 2, 3, 4, 5, 6, 1, 2, 3, 4, 5, 6, 1, 2, 3, 4, 1, 2, 3, 4, 5, 6, 1, 2, 3, 4, 5, 6, 1, 2, 3, 4, 5, 6, 1, 5, 6, 2, 3, 4, 5, 6, 2, 3, 4, 5, 6, 1, 5, 1, 2, 5, 1, 2, 3, 4, 5, 1, 2, 3, 4, 5, 2, 4, 5, 6, 2, 4, 5, 6, 1, 2, 3, 4, 5, 6, 1, 5, 1, 2, 3, 4, 5, 6, 2, 3, 4, 5, 1, 2, 3, 4, 5, 6, 1, 2, 3, 4, 5, 6, 1, 2, 3, 4, 5, 6, 2, 3, 4, 5, 6, 1, 2, 3, 4, 5, 2, 3, 4, 5, 1, 2, 3, 4, 3, 4, 5, 6, 1, 2, 3, 6, 1, 2, 3, 4, 5, 6, 1, 2, 3, 4, 5, 6, 1, 2, 5, 1, 2, 3, 4, 5, 6, 1, 2, 3, 4, 6, 1, 2, 3, 4, 5, 6, 1, 2, 3, 4, 5, 6, 1, 2, 3, 4, 5, 6, 1, 2, 3, 4, 5, 6, 1, 2, 3, 4, 5, 6, 1, 2, 3, 4, 5, 6, 1, 2, 3, 4, 5, 6, 3, 4, 5, 6, 2, 3, 4, 5, 6, 1, 2, 3, 4, 5, 6, 1, 2, 3, 4, 5, 6, 1, 2, 5, 6, 2, 3, 4, 5, 6, 1, 3, 4, 5, 6, 1, 2, 3, 4, 5, 1, 2, 3, 4, 2, 3, 4, 5, 2, 6, 2, 3, 4, 5, 6, 2, 6, 1, 2, 4, 5, 6, 2, 3, 4, 5, 6, 1, 3, 4, 5, 6, 1, 2, 3, 4, 5, 6, 1, 2, 5, 6, 1, 2, 3, 4, 5, 6, 1, 2, 3, 4, 5, 6, 1, 2, 3, 4, 5, 6, 1, 2, 3, 6, 1, 2, 3, 5, 6, 1, 2, 3, 5, 6, 1, 2, 3, 4, 5, 6, 1, 2, 3, 4, 5, 6, 4, 5, 6, 1, 2, 5, 6, 1, 3, 6, 1, 2, 3, 4, 5, 6, 1, 2, 3, 4, 5, 6, 1, 2, 3, 4, 5, 6, 1, 2, 3, 4, 5, 6, 2, 3, 4, 5, 6, 1, 4, 5, 6, 1, 2, 3, 4, 5, 6, 1, 2, 3, 6, 1, 3, 6, 1, 2, 3, 4, 1, 2, 3, 4, 5, 6, 3, 4, 5, 6, 1, 2, 3, 4, 5, 6, 1, 3, 6, 1, 2, 3, 4, 5, 6, 2, 4, 5, 1, 2, 3, 4, 5, 6, 1, 2, 4, 5, 6, 1, 2, 3, 4, 6, 2, 4, 5, 6, 2, 1, 3, 5, 6, 2, 3, 4, 5, 6, 3, 4, 5, 6, 1, 2, 3, 4, 5, 6, 1, 2, 3, 4, 5, 6, 3, 4, 1, 2, 3, 4, 5, 6, 1, 2, 3, 4, 5, 6, 2, 3, 4, 5, 6, 1, 2, 4, 5, 6, 1, 2, 3, 4, 5, 6, 1, 2, 3, 4, 6, 1, 2, 3, 4, 5, 6, 2, 3, 4, 6, 2, 3, 6, 1, 2, 5, 6, 1, 2, 3, 5, 6, 1, 2, 3, 4, 5, 6, 1, 2, 3, 4, 5, 6, 1, 2, 3, 4, 5, 6, 2, 3, 4, 6, 3, 5, 6, 1, 2, 3, 4, 5, 6, 2, 5, 1, 2, 3, 4, 5, 6, 1, 3, 4, 5, 6, 1, 2, 3, 4, 5, 6, 1, 2, 3, 4, 5, 6, 1, 2, 3, 4, 5, 6, 1, 3, 6, 1, 2, 3, 4, 5, 1, 2, 3, 4, 5, 6, 1, 2, 3, 4, 5, 6, 2, 3, 4, 5, 6, 1, 2, 3, 4, 5, 6, 1, 5, 6, 2, 3, 4, 5, 1, 4, 5, 6, 1, 5, 6, 1, 2, 3, 4, 5, 6, 1, 2, 3, 4, 6, 1, 2, 5, 6, 1, 2, 3, 4, 5, 6, 1, 2, 3, 4, 5, 6, 1, 2, 3, 4, 5, 6, 1, 6, 3, 4, 5, 1, 3, 5, 6, 1, 2, 5, 2, 3, 4, 6, 1, 2, 3, 4, 5, 6, 1, 2, 3, 4, 5, 6, 1, 2, 3, 4, 5, 6, 1, 2, 3, 4, 5, 6, 1, 2, 3, 4, 5, 6, 1, 2, 3, 4, 5, 6, 1, 4, 5, 6, 1, 2, 3, 4, 5, 6, 1, 2, 3, 4, 5, 6, 1, 2, 3, 4, 5, 6, 1, 2, 3, 4, 5, 6, 2, 3, 4, 5, 6, 1, 2, 3, 4, 5, 6, 2, 4, 6, 1, 2, 3, 4, 5, 6, 2, 3, 4, 5, 6, 1, 2, 3, 4, 5, 6, 1, 2, 3, 4, 5, 6, 1, 2, 3, 5, 1, 2, 3, 4, 5, 6, 1, 2, 3, 4, 5, 6, 1, 2, 3, 4, 5, 6, 2, 3, 5, 6, 2, 1, 2, 4, 1, 2, 3, 4, 6, 1, 2, 3, 4, 5, 6, 1, 2, 4, 5, 2, 3, 4, 5, 6, 2, 3, 4, 5, 6, 1, 2, 3, 4, 5, 6, 1, 2, 3, 4, 5, 6, 1, 2, 3, 4, 5, 6, 1, 2, 3, 4, 5, 6, 1, 2, 3, 4, 5, 6, 1, 2, 3, 4, 5, 6], \"Freq\": [0.05663624378326602, 0.05663624378326602, 0.8495436567489902, 0.05663624378326602, 0.06293825827858715, 0.818197357621633, 0.03647640479372848, 0.8754337150494836, 0.03647640479372848, 0.03647640479372848, 0.03647640479372848, 0.01739933908389861, 0.03479867816779722, 0.9221649714466263, 0.01739933908389861, 0.03491670482800592, 0.03491670482800592, 0.03491670482800592, 0.9078343255281539, 0.08986810286151041, 0.14978017143585068, 0.005991206857434027, 0.005991206857434027, 0.005991206857434027, 0.7369184434643854, 0.8915478196490311, 0.035661912785961244, 0.035661912785961244, 0.035661912785961244, 0.035661912785961244, 0.035661912785961244, 0.8934281686381785, 0.016544966085892194, 0.049634898257676585, 0.016544966085892194, 0.016544966085892194, 0.016544966085892194, 0.9682970919336972, 0.00827604352080083, 0.00827604352080083, 0.00827604352080083, 0.00827604352080083, 0.00827604352080083, 0.032377397685914584, 0.11332089190070105, 0.016188698842957292, 0.8094349421478646, 0.032377397685914584, 0.058873609414726503, 0.058873609414726503, 0.058873609414726503, 0.8242305318061711, 0.06664059116848524, 0.8663276851903081, 0.0403913304868076, 0.9290006011965747, 0.0201956652434038, 0.9037356938864374, 0.03929285625593206, 0.03929285625593206, 0.06155308143813247, 0.12310616287626494, 0.7694135179766559, 0.015388270359533118, 0.015388270359533118, 0.015388270359533118, 0.8737682642696024, 0.025699066596164777, 0.025699066596164777, 0.07709719978849433, 0.025699066596164777, 0.09987046235585102, 0.8322538529654252, 0.016645077059308504, 0.016645077059308504, 0.016645077059308504, 0.016645077059308504, 0.030265612215495754, 0.1513280610774788, 0.030265612215495754, 0.7869059176028896, 0.017509645546408114, 0.8229533406811813, 0.10505787327844868, 0.017509645546408114, 0.05252893663922434, 0.9189428047546239, 0.036757712190184956, 0.036757712190184956, 0.024811560091606517, 0.9428392834810477, 0.24232903339237122, 0.012754159652230064, 0.012754159652230064, 0.012754159652230064, 0.7142329405248836, 0.012754159652230064, 0.026299450055101724, 0.9204807519285603, 0.026299450055101724, 0.026299450055101724, 0.026299450055101724, 0.026299450055101724, 0.008782813755650196, 0.008782813755650196, 0.9748923268771718, 0.22665120560248894, 0.7532819480318015, 0.006666211929484969, 0.006666211929484969, 0.006666211929484969, 0.006666211929484969, 0.12782294718786394, 0.024941062865924672, 0.11223478289666101, 0.6328794702228385, 0.003117632858240584, 0.0966466186054581, 0.02505366919192122, 0.24427327462123188, 0.3945952897727592, 0.15658543244950762, 0.10021467676768488, 0.08142442487374396, 0.03426228002772959, 0.03426228002772959, 0.8908192807209694, 0.03426228002772959, 0.03426228002772959, 0.2061608047385702, 0.014725771767040728, 0.007362885883520364, 0.22088657650561092, 0.11780617413632583, 0.44177315301122183, 0.05653953594904725, 0.8480930392357088, 0.040463641148480264, 0.8902001052665659, 0.040463641148480264, 0.8556564961066645, 0.047536472005925805, 0.047536472005925805, 0.047536472005925805, 0.011391269844259422, 0.022782539688518844, 0.8543452383194566, 0.06834761906555653, 0.04556507937703769, 0.011391269844259422, 0.12056387346751256, 0.024112774693502512, 0.7957215648855829, 0.048225549387005025, 0.01157670619475944, 0.2025923584082902, 0.3183594203558846, 0.03473011858427832, 0.08103694336331609, 0.3473011858427832, 0.022791909957485423, 0.911676398299417, 0.022791909957485423, 0.022791909957485423, 0.8542861768074591, 0.04746034315596995, 0.04746034315596995, 0.02383214251033547, 0.22044731822060307, 0.38727231579295135, 0.17278303319993213, 0.011916071255167734, 0.178741068827516, 0.14009936820974123, 0.07004968410487061, 0.017512421026217653, 0.017512421026217653, 0.017512421026217653, 0.7530341041273592, 0.011391201187247816, 0.07973840831073471, 0.865731290230834, 0.022782402374495633, 0.011391201187247816, 0.011391201187247816, 0.02757002185154157, 0.02757002185154157, 0.8546706773977887, 0.02757002185154157, 0.02757002185154157, 0.027258265282426312, 0.027258265282426312, 0.027258265282426312, 0.027258265282426312, 0.027258265282426312, 0.8995227543200682, 0.9491764321446835, 0.01483088175226068, 0.01483088175226068, 0.01483088175226068, 0.01483088175226068, 0.016628810109364803, 0.016628810109364803, 0.016628810109364803, 0.9478421762337937, 0.016628810109364803, 0.021347914815920965, 0.021347914815920965, 0.08539165926368386, 0.8752645074527596, 0.021347914815920965, 0.021347914815920965, 0.2712002407845202, 0.008475007524516256, 0.11017509781871135, 0.008475007524516256, 0.09322508276967884, 0.5169754589954917, 0.8202008540607599, 0.012427285667587272, 0.024854571335174543, 0.13670014234345998, 0.012427285667587272, 0.02863311204804648, 0.02863311204804648, 0.02863311204804648, 0.9162595855374873, 0.8816385687105228, 0.05186109227708958, 0.18233125974958703, 0.013023661410684787, 0.013023661410684787, 0.07814196846410873, 0.6381594091235546, 0.07814196846410873, 0.008406863059844269, 0.008406863059844269, 0.05884804141890988, 0.1092892197779755, 0.437156879111902, 0.37830883769299206, 0.01192276284878259, 0.01192276284878259, 0.01192276284878259, 0.01192276284878259, 0.9299755022050419, 0.02384552569756518, 0.8966245083090068, 0.04075565946859122, 0.04075565946859122, 0.04075565946859122, 0.04075565946859122, 0.039278100785909126, 0.039278100785909126, 0.8641182172900008, 0.039278100785909126, 0.039278100785909126, 0.039278100785909126, 0.005945144712911947, 0.8679911280851442, 0.005945144712911947, 0.005945144712911947, 0.04161601299038362, 0.07728688126785531, 0.009306498693118604, 0.009306498693118604, 0.2698884621004395, 0.18612997386237207, 0.06514549085183023, 0.4746314333490488, 0.8906184611449751, 0.027831826910780472, 0.027831826910780472, 0.027831826910780472, 0.15159687350429132, 0.012633072792024278, 0.5811213484331168, 0.05053229116809711, 0.10738111873220636, 0.09474804594018209, 0.6861940504138937, 0.006794000499147462, 0.006794000499147462, 0.027176001996589847, 0.27855402046504596, 0.41872257345553743, 0.1659089441993639, 0.4029217216270266, 0.6757061805396755, 0.009384808063051048, 0.009384808063051048, 0.09384808063051048, 0.2158505854501741, 0.9262680692617845, 0.012688603688517595, 0.05075441475407038, 0.012688603688517595, 0.021486341174731503, 0.08594536469892601, 0.8164809646397971, 0.042972682349463005, 0.021486341174731503, 0.021486341174731503, 0.01948854456882332, 0.857495961028226, 0.01948854456882332, 0.07795417827529327, 0.01948854456882332, 0.03897708913764664, 0.029046514273422048, 0.058093028546844096, 0.8713954282026615, 0.007962768886541434, 0.6927608931291047, 0.01592553777308287, 0.27073414214240876, 0.007962768886541434, 0.03723730189960793, 0.03723730189960793, 0.03723730189960793, 0.8936952455905903, 0.013167428970766924, 0.6978737354506469, 0.19751143456150386, 0.06583714485383461, 0.013167428970766924, 0.013167428970766924, 0.03683776162311158, 0.04911701549748211, 0.012279253874370528, 0.012279253874370528, 0.012279253874370528, 0.884106278954678, 0.007404381475133981, 0.9773783547176854, 0.007404381475133981, 0.007404381475133981, 0.007404381475133981, 0.8215603388199594, 0.012262094609253125, 0.012262094609253125, 0.14714513531103748, 0.012262094609253125, 0.012262094609253125, 0.012512797888378344, 0.6068706975863497, 0.12512797888378344, 0.037538393665135034, 0.21271756410243187, 0.006256398944189172, 0.024269345022841116, 0.024269345022841116, 0.9465044558908036, 0.022603233904038414, 0.9041293561615366, 0.022603233904038414, 0.04520646780807683, 0.02840921028935536, 0.5965934160764625, 0.35984999699850123, 0.05082053841581656, 0.05082053841581656, 0.05082053841581656, 0.8639491530688815, 0.029992246262811544, 0.029992246262811544, 0.8997673878843463, 0.029992246262811544, 0.029992246262811544, 0.029992246262811544, 0.017009040095783606, 0.2721446415325377, 0.017009040095783606, 0.017009040095783606, 0.6973706439271278, 0.203665585724714, 0.09051803809987288, 0.6958574178927728, 0.005657377381242055, 0.005657377381242055, 0.007493556242743389, 0.269768024738762, 0.022480668728230166, 0.10490978739840745, 0.1273904561266376, 0.4646004870500901, 0.34935971362060225, 0.011842702156630585, 0.4618653841085928, 0.1598764791145129, 0.011842702156630585, 0.1368786844637152, 0.019554097780530744, 0.019554097780530744, 0.019554097780530744, 0.8212721067822912, 0.019554097780530744, 0.012326737427580526, 0.012326737427580526, 0.012326737427580526, 0.23420801112402997, 0.13559411170338578, 0.6040101339514458, 0.1568418641880277, 0.022405980598289674, 0.022405980598289674, 0.022405980598289674, 0.022405980598289674, 0.7842093209401386, 0.04660563000539805, 0.04660563000539805, 0.0932112600107961, 0.8389013400971649, 0.9746189921057508, 0.009746189921057509, 0.16794394221086367, 0.03598798761661365, 0.719759752332273, 0.047983983488818195, 0.011995995872204549, 0.011995995872204549, 0.041878753579766365, 0.8794538251750937, 0.041878753579766365, 0.032788846807305864, 0.016394423403652932, 0.032788846807305864, 0.8361155935862995, 0.0983665404219176, 0.016394423403652932, 0.008407832894195411, 0.008407832894195411, 0.02522349868258623, 0.09248616183614951, 0.02522349868258623, 0.8323754565253456, 0.9058909342036259, 0.018117818684072518, 0.018117818684072518, 0.018117818684072518, 0.036235637368145036, 0.018117818684072518, 0.8795338507104148, 0.04188256431954356, 0.02094128215977178, 0.02094128215977178, 0.02094128215977178, 0.006046926346434872, 0.3083932436681785, 0.6228334136827919, 0.018140779039304618, 0.042328484425044104, 0.006046926346434872, 0.05962350459063084, 0.05962350459063084, 0.05962350459063084, 0.8347290642688316, 0.05962350459063084, 0.9173359547204939, 0.02779805923395436, 0.02779805923395436, 0.02779805923395436, 0.38695241537074293, 0.6046131490167859, 0.04523117104046775, 0.04523117104046775, 0.904623420809355, 0.018016733568216214, 0.045041833920540536, 0.2882677370914594, 0.009008366784108107, 0.6305856748875674, 0.009008366784108107, 0.10301663302408656, 0.05150831651204328, 0.02575415825602164, 0.7983789059366708, 0.05150831651204328, 0.021743940244102263, 0.021743940244102263, 0.9349894304963973, 0.021743940244102263, 0.8802714731084553, 0.05178067488873266, 0.03237398674180555, 0.03237398674180555, 0.9064716287705553, 0.03237398674180555, 0.041960358473717506, 0.8811675279480676, 0.041960358473717506, 0.030798173864794255, 0.8931470420790334, 0.030798173864794255, 0.030798173864794255, 0.030798173864794255, 0.8642326104777235, 0.03928330047626016, 0.03928330047626016, 0.03928330047626016, 0.019732653894111333, 0.009866326947055666, 0.21705919283522465, 0.019732653894111333, 0.7301081940821192, 0.009866326947055666, 0.046592705264311286, 0.046592705264311286, 0.046592705264311286, 0.8386686947576032, 0.01853590750972218, 0.9638671905055534, 0.00926795375486109, 0.00926795375486109, 0.00926795375486109, 0.11022743000803804, 0.015746775715434005, 0.015746775715434005, 0.8503258886334364, 0.015746775715434005, 0.17226423020320236, 0.005940145869075944, 0.005940145869075944, 0.8137999840634043, 0.005940145869075944, 0.3558943168887773, 0.044486789611097165, 0.12233867143051722, 0.3169683759790673, 0.03892594090971002, 0.11121697402774292, 0.0047703669626202785, 0.0047703669626202785, 0.9826955942997774, 0.0047703669626202785, 0.0047703669626202785, 0.0072780282842296465, 0.010917042426344468, 0.6222714183016348, 0.021834084852688937, 0.3129552162218748, 0.025473098994803763, 0.9132030784557669, 0.03261439565913453, 0.03769094009106524, 0.9045825621855658, 0.03769094009106524, 0.03769094009106524, 0.03769094009106524, 0.03769094009106524, 0.01804416482183433, 0.09022082410917166, 0.01804416482183433, 0.01804416482183433, 0.8480757466262135, 0.003913902533642346, 0.14872829627840914, 0.12133097854291273, 0.6536217231182718, 0.02739731773549642, 0.04696683040370815, 0.7907037541127567, 0.18247009710294387, 0.12411779578599334, 0.637514132900784, 0.21438528363035214, 0.005641717990272425, 0.005641717990272425, 0.01128343598054485, 0.8843875184595521, 0.028528629627727488, 0.057057259255454976, 0.028528629627727488, 0.7946193260816353, 0.0060657963823025594, 0.012131592764605119, 0.18197389146907678, 0.0060657963823025594, 0.24199672179822082, 0.15357484267964014, 0.09772944534158919, 0.02792269866902548, 0.47468587737343315, 0.004653783111504247, 0.14683601807264754, 0.6469962046326032, 0.1284815158135666, 0.0642407579067833, 0.004588625564770236, 0.009177251129540471, 0.03993646808646797, 0.07987293617293593, 0.03993646808646797, 0.03993646808646797, 0.8386658298158273, 0.10234490194368474, 0.1535173529155271, 0.7036212008628325, 0.012793112742960593, 0.012793112742960593, 0.012793112742960593, 0.040390986311120466, 0.040390986311120466, 0.040390986311120466, 0.8482107125335299, 0.040390986311120466, 0.07428045923969356, 0.012045479876707064, 0.00803031991780471, 0.22886411765743422, 0.17666703819170362, 0.49988741488334315, 0.28463996512386636, 0.014981050795992965, 0.014981050795992965, 0.6741472858196834, 0.8725422441432407, 0.06711863416486466, 0.03355931708243233, 0.0497014708170123, 0.18638051556379612, 0.012425367704253076, 0.7206713268466783, 0.012425367704253076, 0.037276103112759224, 0.02174398052442104, 0.04348796104884208, 0.02174398052442104, 0.8915032015012627, 0.02174398052442104, 0.02174398052442104, 0.004438844385911583, 0.07102151017458533, 0.17755377543646333, 0.13760417596325908, 0.008877688771823166, 0.6081216808698869, 0.04950784626303239, 0.8416333864715506, 0.04950784626303239, 0.03797091678524962, 0.8733310860607413, 0.03797091678524962, 0.03797091678524962, 0.03797091678524962, 0.8671920833857595, 0.045641688599250496, 0.045641688599250496, 0.045641688599250496, 0.047115128999744245, 0.8951874509951407, 0.047115128999744245, 0.047115128999744245, 0.18537197657810384, 0.2138907422055044, 0.2851876562740059, 0.023765638022833824, 0.004753127604566765, 0.2851876562740059, 0.06580846293537111, 0.06580846293537111, 0.8555100181598245, 0.016156695183105706, 0.04847008554931712, 0.9209316254370253, 0.016156695183105706, 0.08758188246921421, 0.6501270506368594, 0.030316805470112614, 0.2256917740552828, 0.003368533941123624, 0.003368533941123624, 0.023415496458754653, 0.17171364069753411, 0.06244132389001241, 0.21073946812879188, 0.03902582743125776, 0.4995305911200993, 0.030554742889319496, 0.8555328009009459, 0.030554742889319496, 0.06110948577863899, 0.030554742889319496, 0.030554742889319496, 0.00511710133086777, 0.00511710133086777, 0.9824834555266118, 0.490983974557653, 0.009092295825141723, 0.009092295825141723, 0.009092295825141723, 0.427337903781661, 0.06364607077599206, 0.024284191560145274, 0.2954576639817675, 0.37640496918225175, 0.19022616722113797, 0.028331556820169485, 0.08904203572053267, 0.04069700104358429, 0.04069700104358429, 0.8546370219152701, 0.04069700104358429, 0.010357313773445382, 0.020714627546890765, 0.8803716707428575, 0.07250119641411767, 0.010357313773445382, 0.010357313773445382, 0.6638845204669505, 0.08298556505836881, 0.011855080722624116, 0.011855080722624116, 0.16597113011673761, 0.05927540361312058, 0.034519865992247115, 0.034519865992247115, 0.8629966498061779, 0.034519865992247115, 0.034519865992247115, 0.034519865992247115, 0.8610867411436255, 0.025326080621871336, 0.07597824186561401, 0.06195264978726567, 0.015488162446816417, 0.9138015843621686, 0.015488162446816417, 0.015488162446816417, 0.017976712993812604, 0.19774384293193864, 0.772998658733942, 0.008988356496906302, 0.008988356496906302, 0.8557754008555816, 0.11745936874488373, 0.9362875792148003, 0.02283628241987318, 0.02283628241987318, 0.04927153758800968, 0.02463576879400484, 0.02463576879400484, 0.02463576879400484, 0.9115234453781791, 0.03654744912145233, 0.03654744912145233, 0.03654744912145233, 0.07309489824290466, 0.8405913297934036, 0.8793776377496286, 0.041875125607125176, 0.041875125607125176, 0.041875125607125176, 0.03898868531642799, 0.8967397622778438, 0.03898868531642799, 0.03898868531642799, 0.03796445763834266, 0.03796445763834266, 0.8731825256818811, 0.03796445763834266, 0.03796445763834266, 0.03796445763834266, 0.03021634541634289, 0.951814880614801, 0.04531454505339049, 0.04531454505339049, 0.04531454505339049, 0.04531454505339049, 0.8609763560144194, 0.04531454505339049, 0.8547156237432233, 0.026298942269022258, 0.0920462979415779, 0.01972420670176669, 0.01022249274649049, 0.08177994197192393, 0.5724595938034674, 0.2146723476763003, 0.01022249274649049, 0.1124474202113954, 0.19741562119161712, 0.6681759486485502, 0.015185817014739778, 0.007592908507369889, 0.007592908507369889, 0.10630071910317845, 0.1080679277555932, 0.007719137696828086, 0.1543827539365617, 0.12350620314924937, 0.5943736026557626, 0.007719137696828086, 0.13301780041400746, 0.013301780041400745, 0.8114085825254455, 0.013301780041400745, 0.013301780041400745, 0.01018613333211857, 0.03055839999635571, 0.01018613333211857, 0.9371242665549084, 0.02037226666423714, 0.9404141458309252, 0.02239081299597441, 0.011195406497987205, 0.02239081299597441, 0.03929507897664262, 0.03929507897664262, 0.8644917374861376, 0.03929507897664262, 0.02763070418904551, 0.02763070418904551, 0.9118132382385018, 0.02763070418904551, 0.8670106065768208, 0.04563213718825373, 0.04563213718825373, 0.04563213718825373, 0.04490065156309351, 0.26940390937856107, 0.15964676111322135, 0.11474610955012786, 0.05986753541745801, 0.3492272899351717, 0.008292625550971603, 0.024877876652914813, 0.03317050220388641, 0.7214584229345296, 0.008292625550971603, 0.2073156387742901, 0.04531764495574561, 0.04531764495574561, 0.8610352541591667, 0.05900507772686023, 0.028705172948202275, 0.24399397005971932, 0.012757854643645455, 0.4847984764585273, 0.17063630585875797, 0.04138612297861459, 0.04138612297861459, 0.04138612297861459, 0.04138612297861459, 0.8691085825509064, 0.01958124015991822, 0.00979062007995911, 0.23742253693900844, 0.014685930119938666, 0.35246232287852797, 0.36714825299846665, 0.14768559789138228, 0.01230713315761519, 0.01230713315761519, 0.8245779215602177, 0.01230713315761519, 0.01230713315761519, 0.5938068145631158, 0.023439742680122992, 0.3203431499616809, 0.007813247560040997, 0.046879485360245984, 0.015626495120081994, 0.013795961460253489, 0.013795961460253489, 0.055183845841013955, 0.8691455719959698, 0.027591922920506978, 0.013795961460253489, 0.0021575386090963346, 0.0021575386090963346, 0.13376739376397273, 0.39051448824643653, 0.4552406465193266, 0.01941784748186701, 0.09722196470626995, 0.0044191802139213615, 0.3446960566858662, 0.008838360427842723, 0.008838360427842723, 0.5391399860984062, 0.0023794283736349353, 0.0023794283736349353, 0.23318398061622367, 0.73762279582683, 0.007138285120904806, 0.021414855362714418, 0.14246210330085726, 0.8310289359216674, 0.00791456129449207, 0.01582912258898414, 0.009195341782676072, 0.9747062289636637, 0.009195341782676072, 0.009195341782676072, 0.009195341782676072, 0.01581773427787806, 0.01054515618525204, 0.3743530445764474, 0.18454023324191068, 0.30580952937230915, 0.1054515618525204, 0.9043252254252109, 0.01482500369549526, 0.01482500369549526, 0.01482500369549526, 0.05930001478198104, 0.01482500369549526, 0.03492560794126742, 0.03492560794126742, 0.03492560794126742, 0.8731401985316857, 0.05139509499339243, 0.05139509499339243, 0.8737166148876714, 0.05139509499339243, 0.05139509499339243, 0.034967944040786014, 0.034967944040786014, 0.06993588808157203, 0.034967944040786014, 0.8042627129380783, 0.015286066246230516, 0.8713057760351395, 0.061144264984922064, 0.04585819873869155, 0.015286066246230516, 0.04523213994565218, 0.04523213994565218, 0.04523213994565218, 0.9046427989130437, 0.05149522904225741, 0.05149522904225741, 0.05149522904225741, 0.875418893718376, 0.948217381163326, 0.018234949637756268, 0.005743939755597203, 0.10913485535634684, 0.8673349030951776, 0.005743939755597203, 0.011487879511194406, 0.06578621908226245, 0.8552208480694118, 0.918233459002001, 0.024817120513567596, 0.024817120513567596, 0.024817120513567596, 0.024817120513567596, 0.5524188828130028, 0.0043497549827795495, 0.2914335838462298, 0.14789166941450468, 0.0043497549827795495, 0.7660723675413798, 0.007295927309917903, 0.007295927309917903, 0.10214298233885064, 0.11673483695868644, 0.00467815114672867, 0.35553948715137895, 0.1263100809616741, 0.3508613360046503, 0.14970083669531745, 0.00935630229345734, 0.8122371571529343, 0.017281641641551795, 0.13825313313241436, 0.017281641641551795, 0.011013924503712594, 0.03304177351113778, 0.6718493947264682, 0.011013924503712594, 0.06608354702227556, 0.2092645655705393, 0.03714833841084891, 0.37891305179065893, 0.11701726599417407, 0.03714833841084891, 0.0037148338410848913, 0.4272058917247625, 0.011429349900930464, 0.19429894831581787, 0.045717399603721856, 0.011429349900930464, 0.011429349900930464, 0.7200490437586192, 0.033519391722605194, 0.033519391722605194, 0.9050235765103402, 0.033519391722605194, 0.04657460768667321, 0.04657460768667321, 0.04657460768667321, 0.04657460768667321, 0.884917546046791, 0.8270114433428685, 0.016540228866857368, 0.11578160206800157, 0.016540228866857368, 0.016540228866857368, 0.009103562065846437, 0.009103562065846437, 0.11834630685600368, 0.564420848082479, 0.09103562065846436, 0.20938192751446805, 0.02727331803684074, 0.02727331803684074, 0.02727331803684074, 0.08181995411052222, 0.02727331803684074, 0.8454728591420629, 0.041381062292036655, 0.041381062292036655, 0.9103833704248063, 0.913273665685276, 0.02536871293570211, 0.02536871293570211, 0.02536871293570211, 0.05885547249662729, 0.05885547249662729, 0.823976614952782, 0.012855054291190349, 0.051420217164761396, 0.012855054291190349, 0.025710108582380698, 0.0771303257471421, 0.8227234746361823, 0.0179450211832073, 0.0717800847328292, 0.0179450211832073, 0.8793060379771577, 0.0179450211832073, 0.0179450211832073, 0.018236763857190464, 0.018236763857190464, 0.03647352771438093, 0.018236763857190464, 0.7659440820019995, 0.1641308747147142, 0.018699982744530344, 0.15583318953775285, 0.4986662065208091, 0.19323315502681354, 0.043633293070570796, 0.08726658614114159, 0.012706548933326234, 0.025413097866652468, 0.9021649742661626, 0.050826195733304935, 0.012706548933326234, 0.8185256109165696, 0.0127894626705714, 0.0127894626705714, 0.1406840893762854, 0.168451893131541, 0.058591962828362085, 0.1318319163638147, 0.007323995353545261, 0.6298636004048924, 0.014647990707090521, 0.8967974998562124, 0.040763522720736925, 0.040763522720736925, 0.020381761360368462, 0.9544752040302805, 0.017044200071969294, 0.017044200071969294, 0.008375893202929047, 0.9381000387280533, 0.025127679608787142, 0.025127679608787142, 0.0638358806489432, 0.0091194115212776, 0.0091194115212776, 0.0091194115212776, 0.7569111562660408, 0.1550299958617192, 0.037691570391898445, 0.9045976894055627, 0.037691570391898445, 0.037691570391898445, 0.06313742698810547, 0.8013596502336463, 0.014570175458793569, 0.0048567251529311895, 0.11170467851741736, 0.0048567251529311895, 0.8875717984484779, 0.042265323735641805, 0.042265323735641805, 0.016880065099763815, 0.11816045569834671, 0.03376013019952763, 0.8102431247886632, 0.016880065099763815, 0.016880065099763815, 0.05394300217091081, 0.05394300217091081, 0.863088034734573, 0.014501555785476735, 0.04350466735643021, 0.014501555785476735, 0.7975855682012204, 0.13051400206929062, 0.014501555785476735, 0.018880350292110503, 0.037760700584221006, 0.037760700584221006, 0.9062568140213041, 0.018880350292110503, 0.03606408384529386, 0.03606408384529386, 0.03606408384529386, 0.03606408384529386, 0.8655380122870526, 0.04719998354705692, 0.04719998354705692, 0.8967996873940816, 0.04719998354705692, 0.9421914445270138, 0.06214358252573664, 0.06214358252573664, 0.06214358252573664, 0.8078665728345763, 0.019297322242631955, 0.8104875341905421, 0.1350812556984237, 0.019297322242631955, 0.019297322242631955, 0.9179993568764787, 0.031655150237119956, 0.031655150237119956, 0.031655150237119956, 0.007190094043660566, 0.007190094043660566, 0.3666947962266889, 0.07909103448026622, 0.16537216300419302, 0.38107498431401, 0.10071723359379343, 0.01258965419922418, 0.13848619619146596, 0.7301999435550024, 0.01258965419922418, 0.01258965419922418, 0.8952919102300515, 0.040695086828638705, 0.011157159735689854, 0.5132293478417334, 0.1840931356388826, 0.2733504135244014, 0.011157159735689854, 0.005578579867844927, 0.3334262878449847, 0.012349121772036469, 0.012349121772036469, 0.012349121772036469, 0.62980521037386, 0.012349121772036469, 0.10769148807814659, 0.026922872019536647, 0.8480704686154044, 0.013461436009768324, 0.013461436009768324, 0.03326193009118738, 0.8648101823708719, 0.03326193009118738, 0.03326193009118738, 0.03326193009118738, 0.6139837585784061, 0.01116334106506193, 0.01116334106506193, 0.01116334106506193, 0.3683902551470437, 0.01116334106506193, 0.00856509846011694, 0.00856509846011694, 0.9335957321527464, 0.00856509846011694, 0.042825492300584696, 0.11331660014973009, 0.6077890371667342, 0.13391961835877192, 0.11846735470199056, 0.025753772761302293, 0.005150754552260459, 0.0036692951236664433, 0.007338590247332887, 0.0036692951236664433, 0.9870403882662733, 0.0447047193616781, 0.0447047193616781, 0.8940943872335619, 0.03146736610818393, 0.03146736610818393, 0.912553617137334, 0.03146736610818393, 0.1739317817152069, 0.01932575352391188, 0.7730301409564752, 0.01932575352391188, 0.01932575352391188, 0.007862065120042498, 0.7311720561639523, 0.15724130240084996, 0.06289652096033999, 0.03144826048016999, 0.007862065120042498, 0.004529045293513265, 0.3125041252524153, 0.6250082505048306, 0.04529045293513265, 0.00905809058702653, 0.004529045293513265, 0.0088337825502134, 0.11483917315277418, 0.0176675651004268, 0.706702604017072, 0.12367295570298759, 0.026501347650640196, 0.04038268861092023, 0.04038268861092023, 0.8884191494402451, 0.04038268861092023, 0.046585239914249295, 0.046585239914249295, 0.8851195583707365, 0.5529698884120525, 0.1169136335499768, 0.003159827933783157, 0.003159827933783157, 0.3001836537093999, 0.025278623470265257, 0.8994201265946697, 0.051395435805409694, 0.16845711562546806, 0.1918539372401164, 0.004679364322929668, 0.4913332539076152, 0.10294601510445271, 0.03275555026050768, 0.39545938969812955, 0.05767116099764389, 0.008238737285377698, 0.5355179235495504, 0.008238737285377698, 0.05963493916051938, 0.019878313053506458, 0.019878313053506458, 0.11926987832103876, 0.7553758960332455, 0.019878313053506458, 0.008887015202443272, 0.06220910641710291, 0.7020742009930185, 0.195514334453752, 0.03554806080977309, 0.008887015202443272, 0.014682769142111958, 0.9396972250951653, 0.014682769142111958, 0.029365538284223915, 0.014682769142111958, 0.014682769142111958, 0.9214726747174287, 0.040064029335540374, 0.020032014667770187, 0.9085498252517767, 0.023296149365430174, 0.023296149365430174, 0.023296149365430174, 0.023296149365430174, 0.01507072734185576, 0.9343850951950572, 0.01507072734185576, 0.01507072734185576, 0.01507072734185576, 0.03014145468371152, 0.005542165467963617, 0.011084330935927233, 0.005542165467963617, 0.9809632878295601, 0.005542165467963617, 0.005542165467963617, 0.00876587631493589, 0.02629762894480767, 0.9467146420130761, 0.00876587631493589, 0.00876587631493589, 0.04531385429012517, 0.04531385429012517, 0.04531385429012517, 0.04531385429012517, 0.8609632315123782, 0.04531385429012517, 0.8889766330963084, 0.005698568160873771, 0.09687565873485411, 0.04721054668253572, 0.04721054668253572, 0.04721054668253572, 0.849789840285643, 0.9230030255407631, 0.012144776651852145, 0.04857910660740858, 0.012144776651852145, 0.7960961084849689, 0.007581867699856847, 0.18954669249642117, 0.9148305480904585, 0.0059404581044834965, 0.0059404581044834965, 0.0059404581044834965, 0.0059404581044834965, 0.06534503914931847, 0.038988947373859426, 0.038988947373859426, 0.038988947373859426, 0.8577568422249074, 0.038988947373859426, 0.018823102136003047, 0.0037646204272006093, 0.9712720702177572, 0.0037646204272006093, 0.015811578289360466, 0.015811578289360466, 0.7905789144680233, 0.17392736118296515, 0.015811578289360466, 0.015811578289360466, 0.010116386437840805, 0.010116386437840805, 0.24785146772709973, 0.17197856944329368, 0.4754701625785178, 0.08093109150272644, 0.0049854679642599075, 0.0697965514996387, 0.324055417676894, 0.11466576317797787, 0.02492733982129954, 0.4636485206761714, 0.8776654268938581, 0.0438832713446929, 0.9117737579117755, 0.028492929934742985, 0.028492929934742985, 0.024843832827316663, 0.024843832827316663, 0.09937533130926665, 0.8446903161287665, 0.05139824255698314, 0.8737701234687134, 0.05139824255698314, 0.9230583693783091, 0.023076459234457728, 0.023076459234457728, 0.023076459234457728, 0.14483004038689504, 0.23793506634989897, 0.5689751586628019, 0.010345002884778217, 0.020690005769556433, 0.010345002884778217, 0.0826292415637145, 0.10623759629620436, 0.011804177366244928, 0.07082506419746958, 0.7200548193409406, 0.011804177366244928, 0.8190886088683209, 0.014626582301220015, 0.07313291150610007, 0.04387974690366005, 0.05850632920488006, 0.014626582301220015, 0.6305746420218716, 0.3413637159817651, 0.0047411627219689605, 0.0047411627219689605, 0.0047411627219689605, 0.018964650887875842, 0.004718246500185774, 0.10851966950427279, 0.07549194400297238, 0.21232109250835982, 0.047182465001857736, 0.5520348405217355, 0.007970069749822083, 0.6057253009864784, 0.26301230174412876, 0.015940139499644165, 0.007970069749822083, 0.095640836997865, 0.018270644936394503, 0.07308257974557801, 0.8769909569469361, 0.018270644936394503, 0.9169775918754416, 0.037427656811242514, 0.018713828405621257, 0.018713828405621257, 0.018713828405621257, 0.018713828405621257, 0.03962976755542317, 0.03962976755542317, 0.2245686828140646, 0.013209922518474389, 0.013209922518474389, 0.6737060484421938, 0.023159455033802196, 0.12737700268591207, 0.6137255583957582, 0.08105809261830768, 0.011579727516901098, 0.13895673020281318, 0.008580747636362697, 0.017161495272725393, 0.23168018618179279, 0.008580747636362697, 0.13729196218180315, 0.6006523345453887, 0.9269456589240977, 0.014044631195819663, 0.04213389358745899, 0.007022315597909831, 0.007022315597909831, 0.049935035293941984, 0.815605576467719, 0.09987007058788397, 0.01664501176464733, 0.01664501176464733, 0.01664501176464733, 0.03898940154959108, 0.8967562356405949, 0.03898940154959108, 0.007567920029963807, 0.01135188004494571, 0.16649424065920376, 0.26487720104873325, 0.0037839600149819036, 0.548674202172376, 0.011401656426632526, 0.9691407962637646, 0.011401656426632526, 0.011401656426632526, 0.011401656426632526, 0.0186798799384487, 0.006226626646149567, 0.0186798799384487, 0.006226626646149567, 0.9526738768608838, 0.006226626646149567, 0.008595471102655974, 0.21918451311772733, 0.33522337300358296, 0.11174112433452767, 0.07735923992390377, 0.24926866197702324, 0.05385574892165943, 0.8616919827465509, 0.05385574892165943, 0.05385574892165943, 0.012506118001142407, 0.012506118001142407, 0.8504160240776837, 0.012506118001142407, 0.05002447200456963, 0.07503670800685444, 0.019994158222804714, 0.019994158222804714, 0.9197312782490169, 0.019994158222804714, 0.019994158222804714, 0.019994158222804714, 0.008019044396315641, 0.9542662831615613, 0.008019044396315641, 0.008019044396315641, 0.024057133188946922, 0.008019044396315641, 0.06579738996484147, 0.06579738996484147, 0.06579738996484147, 0.8553660695429391, 0.9118418811930912, 0.05140172193349365, 0.05140172193349365, 0.873829272869392, 0.030296387400431665, 0.10603735590151084, 0.12118554960172666, 0.015148193700215832, 0.72711329761036, 0.9170854286779517, 0.04489229371150812, 0.006413184815929732, 0.02565273926371893, 0.006413184815929732, 0.006413184815929732, 0.035336825733676976, 0.8834206433419244, 0.035336825733676976, 0.035336825733676976, 0.0658865597723784, 0.23719161518056225, 0.5402697901335028, 0.14495043149923248, 0.00658865597723784, 0.007772842684380572, 0.1658206439334522, 0.8109665867370397, 0.012954737807300953, 0.0025909475614601905, 0.18535335457302662, 0.020594817174780736, 0.6590341495929836, 0.006864939058260246, 0.13043384210694467, 0.006864939058260246, 0.1011311429839903, 0.40984726367196067, 0.33000688763196834, 0.02129076694399796, 0.047904225623995406, 0.09048575951199132, 0.025904664155743915, 0.025904664155743915, 0.9325679096067809, 0.025904664155743915, 0.025904664155743915, 0.025904664155743915, 0.6686389971935429, 0.12919465369502356, 0.0022665728718425184, 0.0022665728718425184, 0.0022665728718425184, 0.1971918398502991, 0.016128394483824072, 0.028224690346692123, 0.12499505724963655, 0.16531604345919673, 0.6290073848691388, 0.03628888758860416, 0.0017259681511072374, 0.0017259681511072374, 0.516064477181064, 0.47809317785670474, 0.0017259681511072374, 0.0017259681511072374], \"Term\": [\"30\", \"30\", \"30\", \"30\", \"50\", \"50\", \"abil\", \"abil\", \"abil\", \"abil\", \"abil\", \"accid\", \"accid\", \"accid\", \"accid\", \"addict\", \"addict\", \"addict\", \"addict\", \"adventur\", \"adventur\", \"adventur\", \"adventur\", \"adventur\", \"adventur\", \"african\", \"african\", \"african\", \"african\", \"african\", \"african\", \"america\", \"america\", \"america\", \"america\", \"america\", \"america\", \"anim\", \"anim\", \"anim\", \"anim\", \"anim\", \"anim\", \"apart\", \"apart\", \"apart\", \"apart\", \"apart\", \"app\", \"app\", \"app\", \"app\", \"archiv\", \"archiv\", \"armi\", \"armi\", \"armi\", \"arrang\", \"arrang\", \"arrang\", \"aspir\", \"aspir\", \"aspir\", \"aspir\", \"aspir\", \"aspir\", \"assassin\", \"assassin\", \"assassin\", \"assassin\", \"assassin\", \"attack\", \"attack\", \"attack\", \"attack\", \"attack\", \"attack\", \"attend\", \"attend\", \"attend\", \"attend\", \"away\", \"away\", \"away\", \"away\", \"away\", \"bachelor\", \"bachelor\", \"bachelor\", \"bad\", \"bad\", \"band\", \"band\", \"band\", \"band\", \"band\", \"band\", \"bank\", \"bank\", \"bank\", \"bank\", \"bank\", \"bank\", \"base\", \"base\", \"base\", \"battl\", \"battl\", \"battl\", \"battl\", \"battl\", \"battl\", \"becom\", \"becom\", \"becom\", \"becom\", \"becom\", \"becom\", \"begin\", \"begin\", \"begin\", \"begin\", \"begin\", \"begin\", \"believ\", \"believ\", \"believ\", \"believ\", \"believ\", \"best\", \"best\", \"best\", \"best\", \"best\", \"best\", \"bheem\", \"bheem\", \"bollywood\", \"bollywood\", \"bollywood\", \"bomb\", \"bomb\", \"bomb\", \"bomb\", \"bond\", \"bond\", \"bond\", \"bond\", \"bond\", \"bond\", \"book\", \"book\", \"book\", \"book\", \"boy\", \"boy\", \"boy\", \"boy\", \"boy\", \"boy\", \"boyfriend\", \"boyfriend\", \"boyfriend\", \"boyfriend\", \"bride\", \"bride\", \"bride\", \"brother\", \"brother\", \"brother\", \"brother\", \"brother\", \"brother\", \"build\", \"build\", \"build\", \"build\", \"build\", \"build\", \"busi\", \"busi\", \"busi\", \"busi\", \"busi\", \"busi\", \"businessman\", \"businessman\", \"businessman\", \"businessman\", \"businessman\", \"camp\", \"camp\", \"camp\", \"camp\", \"camp\", \"camp\", \"captur\", \"captur\", \"captur\", \"captur\", \"captur\", \"car\", \"car\", \"car\", \"car\", \"car\", \"care\", \"care\", \"care\", \"care\", \"care\", \"care\", \"career\", \"career\", \"career\", \"career\", \"career\", \"career\", \"case\", \"case\", \"case\", \"case\", \"case\", \"cat\", \"cat\", \"cat\", \"cat\", \"championship\", \"championship\", \"chanc\", \"chanc\", \"chanc\", \"chanc\", \"chanc\", \"chanc\", \"chang\", \"chang\", \"chang\", \"chang\", \"chang\", \"chang\", \"childhood\", \"childhood\", \"childhood\", \"childhood\", \"childhood\", \"childhood\", \"chines\", \"chines\", \"chines\", \"chines\", \"chines\", \"choos\", \"choos\", \"choos\", \"choos\", \"choos\", \"choos\", \"citi\", \"citi\", \"citi\", \"citi\", \"citi\", \"citi\", \"colleg\", \"colleg\", \"colleg\", \"colleg\", \"colleg\", \"colleg\", \"color\", \"color\", \"color\", \"color\", \"come\", \"come\", \"come\", \"come\", \"come\", \"come\", \"comedi\", \"comedi\", \"comedi\", \"comedi\", \"comedi\", \"comedian\", \"comedian\", \"comedian\", \"comic\", \"comic\", \"comic\", \"comic\", \"comic\", \"competit\", \"competit\", \"competit\", \"competit\", \"confront\", \"confront\", \"confront\", \"confront\", \"confront\", \"confront\", \"control\", \"control\", \"control\", \"control\", \"control\", \"control\", \"convict\", \"convict\", \"convict\", \"cop\", \"cop\", \"cop\", \"cop\", \"cop\", \"cope\", \"cope\", \"cope\", \"cope\", \"corrupt\", \"corrupt\", \"corrupt\", \"corrupt\", \"corrupt\", \"corrupt\", \"countri\", \"countri\", \"countri\", \"countri\", \"countri\", \"countri\", \"coupl\", \"coupl\", \"coupl\", \"coupl\", \"coupl\", \"crew\", \"crew\", \"crew\", \"crew\", \"crew\", \"crew\", \"crime\", \"crime\", \"crime\", \"crime\", \"crime\", \"crime\", \"crisi\", \"crisi\", \"crisi\", \"cross\", \"cross\", \"cross\", \"cross\", \"cultur\", \"cultur\", \"cultur\", \"curious\", \"curious\", \"curious\", \"curious\", \"dancer\", \"dancer\", \"dancer\", \"dancer\", \"dancer\", \"dancer\", \"date\", \"date\", \"date\", \"date\", \"date\", \"daughter\", \"daughter\", \"daughter\", \"daughter\", \"daughter\", \"day\", \"day\", \"day\", \"day\", \"day\", \"day\", \"death\", \"death\", \"death\", \"death\", \"death\", \"decad\", \"decad\", \"decad\", \"decad\", \"decad\", \"decad\", \"decid\", \"decid\", \"decid\", \"decid\", \"decid\", \"decid\", \"deliv\", \"deliv\", \"deliv\", \"deliv\", \"deliv\", \"deliv\", \"demand\", \"demand\", \"demand\", \"demand\", \"detect\", \"detect\", \"determin\", \"determin\", \"determin\", \"determin\", \"determin\", \"determin\", \"devot\", \"devot\", \"devot\", \"die\", \"die\", \"die\", \"die\", \"die\", \"die\", \"differ\", \"differ\", \"differ\", \"differ\", \"differ\", \"differ\", \"director\", \"director\", \"director\", \"director\", \"director\", \"director\", \"disappear\", \"disappear\", \"disappear\", \"disappear\", \"disappear\", \"discov\", \"discov\", \"discov\", \"discov\", \"discov\", \"discov\", \"diseas\", \"diseas\", \"diseas\", \"diseas\", \"diseas\", \"divorc\", \"divorc\", \"divorc\", \"divorc\", \"documentari\", \"documentari\", \"doesnt\", \"doesnt\", \"doesnt\", \"drama\", \"drama\", \"drama\", \"drama\", \"drama\", \"drama\", \"dramat\", \"dramat\", \"dramat\", \"dramat\", \"dramat\", \"driver\", \"driver\", \"driver\", \"driver\", \"dump\", \"dump\", \"earli\", \"earli\", \"earli\", \"earli\", \"educ\", \"educ\", \"educ\", \"entangl\", \"entangl\", \"entangl\", \"entangl\", \"entangl\", \"entrepreneur\", \"entrepreneur\", \"entrepreneur\", \"entrepreneur\", \"event\", \"event\", \"event\", \"event\", \"event\", \"event\", \"everyday\", \"everyday\", \"everyday\", \"everyday\", \"evil\", \"evil\", \"evil\", \"evil\", \"evil\", \"examin\", \"examin\", \"examin\", \"examin\", \"examin\", \"explor\", \"explor\", \"explor\", \"explor\", \"explor\", \"face\", \"face\", \"face\", \"face\", \"face\", \"face\", \"fall\", \"fall\", \"fall\", \"fall\", \"fall\", \"famili\", \"famili\", \"famili\", \"famili\", \"famili\", \"famili\", \"fan\", \"fan\", \"farm\", \"farm\", \"farm\", \"farm\", \"farm\", \"farm\", \"fate\", \"fate\", \"fate\", \"fate\", \"fate\", \"father\", \"father\", \"father\", \"father\", \"father\", \"father\", \"featur\", \"featur\", \"fight\", \"fight\", \"fight\", \"fight\", \"fight\", \"fight\", \"fighter\", \"fighter\", \"fighter\", \"fighter\", \"film\", \"film\", \"film\", \"film\", \"film\", \"follow\", \"follow\", \"follow\", \"follow\", \"follow\", \"follow\", \"forc\", \"forc\", \"forc\", \"forc\", \"forc\", \"forc\", \"forest\", \"forest\", \"forest\", \"forest\", \"forest\", \"form\", \"form\", \"form\", \"form\", \"form\", \"form\", \"frame\", \"frame\", \"frame\", \"frame\", \"frame\", \"friend\", \"friend\", \"friend\", \"friend\", \"friend\", \"friend\", \"fun\", \"fun\", \"fun\", \"fun\", \"funni\", \"funni\", \"funni\", \"gang\", \"gang\", \"gang\", \"gang\", \"gang\", \"gang\", \"ghost\", \"ghost\", \"ghost\", \"ghost\", \"ghost\", \"ghost\", \"girl\", \"girl\", \"girl\", \"girl\", \"girl\", \"girl\", \"graduat\", \"graduat\", \"graduat\", \"grappl\", \"grappl\", \"grappl\", \"grappl\", \"grappl\", \"greatest\", \"greatest\", \"greatest\", \"greatest\", \"griev\", \"griev\", \"griev\", \"griev\", \"group\", \"group\", \"group\", \"group\", \"group\", \"group\", \"gun\", \"gun\", \"gun\", \"haunt\", \"haunt\", \"haunt\", \"haunt\", \"help\", \"help\", \"help\", \"help\", \"help\", \"help\", \"hes\", \"hes\", \"hes\", \"hes\", \"hes\", \"hes\", \"hide\", \"hide\", \"hide\", \"hide\", \"hide\", \"hide\", \"high\", \"high\", \"high\", \"histori\", \"histori\", \"histori\", \"histori\", \"histori\", \"histori\", \"home\", \"home\", \"home\", \"home\", \"home\", \"home\", \"hong\", \"hong\", \"hong\", \"hong\", \"hope\", \"hope\", \"hope\", \"hope\", \"hope\", \"hope\", \"host\", \"host\", \"host\", \"host\", \"host\", \"host\", \"hot\", \"hot\", \"hot\", \"hot\", \"hot\", \"hot\", \"humor\", \"humor\", \"humor\", \"hunt\", \"hunt\", \"hunt\", \"hunt\", \"hunt\", \"husband\", \"husband\", \"husband\", \"husband\", \"husband\", \"icon\", \"icon\", \"ii\", \"ii\", \"ii\", \"impact\", \"impact\", \"impact\", \"impact\", \"impact\", \"independ\", \"independ\", \"independ\", \"independ\", \"independ\", \"inherit\", \"inherit\", \"inherit\", \"inherit\", \"innoc\", \"innoc\", \"innoc\", \"innoc\", \"intellig\", \"intellig\", \"intellig\", \"intellig\", \"intellig\", \"intellig\", \"interview\", \"interview\", \"intrigu\", \"intrigu\", \"intrigu\", \"intrigu\", \"intrigu\", \"intrigu\", \"investig\", \"investig\", \"investig\", \"investig\", \"job\", \"job\", \"job\", \"job\", \"job\", \"job\", \"join\", \"join\", \"join\", \"join\", \"join\", \"join\", \"journey\", \"journey\", \"journey\", \"journey\", \"journey\", \"journey\", \"kidnap\", \"kidnap\", \"kidnap\", \"kidnap\", \"kidnap\", \"kill\", \"kill\", \"kill\", \"kill\", \"kill\", \"killer\", \"killer\", \"killer\", \"killer\", \"kong\", \"kong\", \"kong\", \"kong\", \"later\", \"later\", \"later\", \"later\", \"leagu\", \"leagu\", \"leagu\", \"leagu\", \"learn\", \"learn\", \"learn\", \"learn\", \"learn\", \"learn\", \"leav\", \"leav\", \"leav\", \"leav\", \"leav\", \"leav\", \"legaci\", \"legaci\", \"legaci\", \"life\", \"life\", \"life\", \"life\", \"life\", \"life\", \"lifestyl\", \"lifestyl\", \"lifestyl\", \"lifestyl\", \"lifestyl\", \"live\", \"live\", \"live\", \"live\", \"live\", \"live\", \"local\", \"local\", \"local\", \"local\", \"local\", \"local\", \"look\", \"look\", \"look\", \"look\", \"look\", \"look\", \"lose\", \"lose\", \"lose\", \"lose\", \"lose\", \"lose\", \"love\", \"love\", \"love\", \"love\", \"love\", \"love\", \"make\", \"make\", \"make\", \"make\", \"make\", \"make\", \"man\", \"man\", \"man\", \"man\", \"man\", \"man\", \"marri\", \"marri\", \"marri\", \"marri\", \"marriag\", \"marriag\", \"marriag\", \"marriag\", \"marriag\", \"meet\", \"meet\", \"meet\", \"meet\", \"meet\", \"meet\", \"member\", \"member\", \"member\", \"member\", \"member\", \"member\", \"middl\", \"middl\", \"middl\", \"middl\", \"millionair\", \"millionair\", \"millionair\", \"millionair\", \"millionair\", \"misfit\", \"misfit\", \"misfit\", \"misfit\", \"misfit\", \"miss\", \"miss\", \"miss\", \"miss\", \"miss\", \"mobster\", \"mobster\", \"mobster\", \"mobster\", \"modernday\", \"modernday\", \"modernday\", \"modernday\", \"monster\", \"monster\", \"mother\", \"mother\", \"mother\", \"mother\", \"mother\", \"mous\", \"mous\", \"movi\", \"movi\", \"movi\", \"movi\", \"movi\", \"murder\", \"murder\", \"murder\", \"murder\", \"murder\", \"music\", \"music\", \"music\", \"music\", \"music\", \"mysteri\", \"mysteri\", \"mysteri\", \"mysteri\", \"mysteri\", \"mysteri\", \"nation\", \"nation\", \"nation\", \"nation\", \"navig\", \"navig\", \"navig\", \"navig\", \"navig\", \"navig\", \"new\", \"new\", \"new\", \"new\", \"new\", \"new\", \"night\", \"night\", \"night\", \"night\", \"night\", \"night\", \"north\", \"north\", \"north\", \"north\", \"ocean\", \"ocean\", \"ocean\", \"ocean\", \"ocean\", \"offer\", \"offer\", \"offer\", \"offer\", \"offer\", \"old\", \"old\", \"old\", \"old\", \"old\", \"old\", \"onlin\", \"onlin\", \"onlin\", \"onlin\", \"onlin\", \"onlin\", \"ordinari\", \"ordinari\", \"ordinari\", \"origin\", \"origin\", \"origin\", \"origin\", \"outrag\", \"outrag\", \"outrag\", \"pal\", \"pal\", \"pal\", \"pal\", \"pal\", \"pal\", \"partner\", \"partner\", \"partner\", \"partner\", \"partner\", \"partner\", \"passion\", \"passion\", \"passion\", \"passion\", \"passion\", \"passion\", \"past\", \"past\", \"past\", \"past\", \"past\", \"past\", \"path\", \"path\", \"path\", \"path\", \"path\", \"perform\", \"perform\", \"perform\", \"perform\", \"person\", \"person\", \"person\", \"person\", \"person\", \"person\", \"planet\", \"planet\", \"planet\", \"planet\", \"player\", \"player\", \"player\", \"polic\", \"polic\", \"polic\", \"polic\", \"polit\", \"polit\", \"polit\", \"polit\", \"polit\", \"polit\", \"poor\", \"poor\", \"poor\", \"poor\", \"power\", \"power\", \"power\", \"power\", \"power\", \"power\", \"product\", \"product\", \"product\", \"prove\", \"prove\", \"prove\", \"prove\", \"prove\", \"prove\", \"psycholog\", \"psycholog\", \"psycholog\", \"quest\", \"quest\", \"quest\", \"quest\", \"quest\", \"quest\", \"question\", \"question\", \"question\", \"question\", \"question\", \"quirki\", \"quirki\", \"quirki\", \"quirki\", \"quirki\", \"radio\", \"radio\", \"radio\", \"radio\", \"ranger\", \"read\", \"read\", \"read\", \"read\", \"realiz\", \"realiz\", \"realiz\", \"realiz\", \"realiz\", \"reconnect\", \"reconnect\", \"reconnect\", \"reconnect\", \"relationship\", \"relationship\", \"relationship\", \"relationship\", \"relationship\", \"relationship\", \"rescu\", \"rescu\", \"rescu\", \"rescu\", \"rescu\", \"rescu\", \"resort\", \"resort\", \"return\", \"return\", \"return\", \"return\", \"return\", \"return\", \"reveal\", \"reveal\", \"reveal\", \"reveal\", \"reveal\", \"reveal\", \"reveng\", \"reveng\", \"reveng\", \"reveng\", \"reveng\", \"ring\", \"ring\", \"ring\", \"ring\", \"ring\", \"rise\", \"rise\", \"rise\", \"rise\", \"rise\", \"rise\", \"run\", \"run\", \"run\", \"run\", \"run\", \"save\", \"save\", \"save\", \"save\", \"save\", \"save\", \"school\", \"school\", \"school\", \"school\", \"schooler\", \"schooler\", \"schooler\", \"scienc\", \"scienc\", \"scienc\", \"scienc\", \"scientist\", \"scientist\", \"scientist\", \"scientist\", \"scientist\", \"search\", \"search\", \"search\", \"search\", \"search\", \"search\", \"secret\", \"secret\", \"secret\", \"secret\", \"secret\", \"secret\", \"seek\", \"seek\", \"seek\", \"seek\", \"seek\", \"seek\", \"sell\", \"sell\", \"sell\", \"sell\", \"senior\", \"senior\", \"senior\", \"seri\", \"seri\", \"seri\", \"seri\", \"seri\", \"seri\", \"serial\", \"serial\", \"set\", \"set\", \"set\", \"set\", \"set\", \"set\", \"share\", \"share\", \"share\", \"share\", \"share\", \"singer\", \"singer\", \"singer\", \"singer\", \"singer\", \"singer\", \"sister\", \"sister\", \"sister\", \"sister\", \"sister\", \"sister\", \"small\", \"small\", \"small\", \"small\", \"small\", \"small\", \"soccer\", \"soccer\", \"soccer\", \"soldier\", \"soldier\", \"soldier\", \"soldier\", \"soldier\", \"solv\", \"solv\", \"solv\", \"solv\", \"solv\", \"solv\", \"son\", \"son\", \"son\", \"son\", \"son\", \"son\", \"soon\", \"soon\", \"soon\", \"soon\", \"soon\", \"sound\", \"sound\", \"sound\", \"sound\", \"sound\", \"sound\", \"special\", \"special\", \"special\", \"spiritu\", \"spiritu\", \"spiritu\", \"spiritu\", \"stage\", \"stage\", \"stage\", \"stage\", \"standup\", \"standup\", \"standup\", \"star\", \"star\", \"star\", \"star\", \"star\", \"star\", \"stolen\", \"stolen\", \"stolen\", \"stolen\", \"stolen\", \"stori\", \"stori\", \"stori\", \"stori\", \"stranger\", \"stranger\", \"stranger\", \"stranger\", \"stranger\", \"stranger\", \"struggl\", \"struggl\", \"struggl\", \"struggl\", \"struggl\", \"struggl\", \"student\", \"student\", \"student\", \"student\", \"student\", \"student\", \"style\", \"style\", \"suicid\", \"suicid\", \"suicid\", \"summer\", \"summer\", \"summer\", \"summer\", \"super\", \"super\", \"super\", \"supernatur\", \"supernatur\", \"supernatur\", \"supernatur\", \"surviv\", \"surviv\", \"surviv\", \"surviv\", \"surviv\", \"surviv\", \"tale\", \"tale\", \"tale\", \"tale\", \"tale\", \"tale\", \"talent\", \"talent\", \"talent\", \"talent\", \"talent\", \"talent\", \"team\", \"team\", \"team\", \"team\", \"team\", \"team\", \"teen\", \"teen\", \"teen\", \"teen\", \"teen\", \"teen\", \"teenag\", \"teenag\", \"teenag\", \"teenag\", \"teenag\", \"teenag\", \"tell\", \"tell\", \"tell\", \"tell\", \"terrorist\", \"terrorist\", \"terrorist\", \"terrorist\", \"terrorist\", \"terrorist\", \"thing\", \"thing\", \"thing\", \"thing\", \"thing\", \"thing\", \"threaten\", \"threaten\", \"threaten\", \"threaten\", \"threaten\", \"threaten\", \"togeth\", \"togeth\", \"togeth\", \"togeth\", \"togeth\", \"togeth\", \"town\", \"town\", \"town\", \"town\", \"town\", \"track\", \"track\", \"track\", \"track\", \"track\", \"track\", \"treasur\", \"treasur\", \"treasur\", \"tri\", \"tri\", \"tri\", \"tri\", \"tri\", \"tri\", \"troubl\", \"troubl\", \"troubl\", \"troubl\", \"troubl\", \"true\", \"true\", \"true\", \"true\", \"true\", \"true\", \"turn\", \"turn\", \"turn\", \"turn\", \"turn\", \"turn\", \"unearth\", \"unearth\", \"unearth\", \"unearth\", \"unexpect\", \"unexpect\", \"unexpect\", \"unexpect\", \"unexpect\", \"unexpect\", \"unlik\", \"unlik\", \"unlik\", \"unlik\", \"unlik\", \"unlik\", \"use\", \"use\", \"use\", \"use\", \"use\", \"use\", \"valuabl\", \"valuabl\", \"valuabl\", \"valuabl\", \"villain\", \"vision\", \"vision\", \"vision\", \"want\", \"want\", \"want\", \"want\", \"want\", \"war\", \"war\", \"war\", \"war\", \"war\", \"war\", \"warrior\", \"warrior\", \"warrior\", \"warrior\", \"wife\", \"wife\", \"wife\", \"wife\", \"wife\", \"woman\", \"woman\", \"woman\", \"woman\", \"woman\", \"women\", \"women\", \"women\", \"women\", \"women\", \"women\", \"work\", \"work\", \"work\", \"work\", \"work\", \"work\", \"worker\", \"worker\", \"worker\", \"worker\", \"worker\", \"worker\", \"world\", \"world\", \"world\", \"world\", \"world\", \"world\", \"year\", \"year\", \"year\", \"year\", \"year\", \"year\", \"young\", \"young\", \"young\", \"young\", \"young\", \"young\"]}, \"R\": 30, \"lambda.step\": 0.01, \"plot.opts\": {\"xlab\": \"PC1\", \"ylab\": \"PC2\"}, \"topic.order\": [6, 1, 5, 2, 4, 3]};\n",
              "\n",
              "function LDAvis_load_lib(url, callback){\n",
              "  var s = document.createElement('script');\n",
              "  s.src = url;\n",
              "  s.async = true;\n",
              "  s.onreadystatechange = s.onload = callback;\n",
              "  s.onerror = function(){console.warn(\"failed to load library \" + url);};\n",
              "  document.getElementsByTagName(\"head\")[0].appendChild(s);\n",
              "}\n",
              "\n",
              "if(typeof(LDAvis) !== \"undefined\"){\n",
              "   // already loaded: just create the visualization\n",
              "   !function(LDAvis){\n",
              "       new LDAvis(\"#\" + \"ldavis_el4811403411853877285881792143\", ldavis_el4811403411853877285881792143_data);\n",
              "   }(LDAvis);\n",
              "}else if(typeof define === \"function\" && define.amd){\n",
              "   // require.js is available: use it to load d3/LDAvis\n",
              "   require.config({paths: {d3: \"https://d3js.org/d3.v5\"}});\n",
              "   require([\"d3\"], function(d3){\n",
              "      window.d3 = d3;\n",
              "      LDAvis_load_lib(\"https://cdn.jsdelivr.net/gh/bmabey/pyLDAvis@3.3.1/pyLDAvis/js/ldavis.v3.0.0.js\", function(){\n",
              "        new LDAvis(\"#\" + \"ldavis_el4811403411853877285881792143\", ldavis_el4811403411853877285881792143_data);\n",
              "      });\n",
              "    });\n",
              "}else{\n",
              "    // require.js not available: dynamically load d3 & LDAvis\n",
              "    LDAvis_load_lib(\"https://d3js.org/d3.v5.js\", function(){\n",
              "         LDAvis_load_lib(\"https://cdn.jsdelivr.net/gh/bmabey/pyLDAvis@3.3.1/pyLDAvis/js/ldavis.v3.0.0.js\", function(){\n",
              "                 new LDAvis(\"#\" + \"ldavis_el4811403411853877285881792143\", ldavis_el4811403411853877285881792143_data);\n",
              "            })\n",
              "         });\n",
              "}\n",
              "</script>"
            ],
            "text/plain": [
              "PreparedData(topic_coordinates=               x          y  topics  cluster       Freq\n",
              "topic                                                  \n",
              "5       1.465019 -47.625065       1        1  17.647614\n",
              "0      54.854797 -36.476795       2        1  17.269900\n",
              "4      32.212929 -61.444572       3        1  17.182691\n",
              "1       5.111096 -14.110332       4        1  17.091244\n",
              "3      26.350170 -33.374702       5        1  15.500477\n",
              "2      38.109818  -7.222781       6        1  15.308075, topic_info=              Term        Freq       Total Category  logprob  loglift\n",
              "3986         young  579.000000  579.000000  Default  30.0000  30.0000\n",
              "3117        school  272.000000  272.000000  Default  29.0000  29.0000\n",
              "1268        famili  549.000000  549.000000  Default  28.0000  28.0000\n",
              "3952         woman  385.000000  385.000000  Default  27.0000  27.0000\n",
              "3433         stori  265.000000  265.000000  Default  26.0000  26.0000\n",
              "...            ...         ...         ...      ...      ...      ...\n",
              "667         colleg   51.257085  107.451796   Topic6  -5.6010   1.1366\n",
              "1538         group   59.940202  210.387787   Topic6  -5.4445   0.6212\n",
              "3723          turn   57.931561  232.680673   Topic6  -5.4786   0.4864\n",
              "2926  relationship   52.750138  139.080239   Topic6  -5.5723   0.9073\n",
              "680       comedian   51.201156  126.575454   Topic6  -5.6021   0.9717\n",
              "\n",
              "[380 rows x 6 columns], token_table=      Topic      Freq   Term\n",
              "term                        \n",
              "46        2  0.056636     30\n",
              "46        4  0.056636     30\n",
              "46        5  0.849544     30\n",
              "46        6  0.056636     30\n",
              "48        1  0.062938     50\n",
              "...     ...       ...    ...\n",
              "3986      2  0.001726  young\n",
              "3986      3  0.516064  young\n",
              "3986      4  0.478093  young\n",
              "3986      5  0.001726  young\n",
              "3986      6  0.001726  young\n",
              "\n",
              "[1552 rows x 3 columns], R=30, lambda_step=0.01, plot_opts={'xlab': 'PC1', 'ylab': 'PC2'}, topic_order=[6, 1, 5, 2, 4, 3])"
            ]
          },
          "metadata": {},
          "execution_count": 149
        }
      ]
    },
    {
      "cell_type": "markdown",
      "metadata": {
        "id": "35tJV6MLp16K"
      },
      "source": [
        "# **Summary**\n",
        "## 1.International Movies , Drama and Comedy are the top three genres\n",
        "\n",
        "## 2. There is more movie content than TV shows content on Netflix .\n",
        "\n",
        "## 3. United States , India and United Kingdom are the top three countries which produced most number of Movies / TV shows.\n",
        "\n",
        "## 4. Netflix added highest content in the year 2019 followed by 2020 and 2018.\n",
        "\n",
        "## 5. December , October and January are the peak months where the content got added on Netflix.\n",
        "\n",
        "## 6. Anupam Kher , Shah Rukh Khan , Om Puri and Nazeeruddin Shah were the top actors on Netflix content.\n",
        "\n",
        "## 7. Raul Campos, Jan Suter , Marcus Raboy and Jay Karas were the top directors.\n",
        "\n",
        "## 8. Netflix is increasingly focusing on Movies in recent years.\n",
        "\n",
        "## 9. Life , Young , Famili , New , Friend are the most common words in our corpus.\n",
        "\n",
        "## 10. 6 clusters were generated after clustering ( Topic Modelling ).After analysing the top words in the clusters we were able to name them as\n",
        " \n",
        "\n",
        " ## Cluster --------- Name --------------Top words\n",
        "\n",
        " ## 1    ---   International Movies   ---(World,seri,special)\n",
        "\n",
        " ## 2    ---  Crime                  --- (new,help,power)  \n",
        "\n",
        "## 3    ---  Drama                 ---(famili,young,life)\n",
        "\n",
        " ## 4    ---  Romantic             ---(woman.man,young)\n",
        "\n",
        " ## 5    ---  Documentary         ---(life,story,love)\n",
        "\n",
        " ## 6    ---  Childern & Family Movies---(school,friend,new)\n",
        "\n",
        "#Best LDA model's params {'n_components': 6}\n",
        "#Best log likelihood Score for the LDA model -255134.8111\n",
        "#LDA model Perplexity on train data 2555.950221105523"
      ]
    }
  ]
}